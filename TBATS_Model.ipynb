{
 "cells": [
  {
   "cell_type": "markdown",
   "id": "ba694b1a",
   "metadata": {},
   "source": [
    "# HoSt Predictive Model"
   ]
  },
  {
   "cell_type": "code",
   "execution_count": 1,
   "id": "b61b891e",
   "metadata": {},
   "outputs": [],
   "source": [
    "import sys\n",
    "\n",
    "assert sys.version_info >= (3, 7)"
   ]
  },
  {
   "cell_type": "code",
   "execution_count": null,
   "id": "b2c78f65",
   "metadata": {},
   "outputs": [],
   "source": []
  },
  {
   "cell_type": "code",
   "execution_count": 5,
   "id": "d3afd1d7",
   "metadata": {},
   "outputs": [],
   "source": [
    "from packaging import version\n",
    "import sklearn\n",
    "\n",
    "assert version.parse(sklearn.__version__) >= version.parse(\"1.0.1\")"
   ]
  },
  {
   "cell_type": "code",
   "execution_count": 6,
   "id": "669c86a4",
   "metadata": {},
   "outputs": [],
   "source": [
    "import matplotlib.pyplot as plt\n",
    "\n",
    "plt.rc('font', size=12)\n",
    "plt.rc('axes', labelsize=14, titlesize=14)\n",
    "plt.rc('legend', fontsize=12)\n",
    "plt.rc('xtick', labelsize=10)\n",
    "plt.rc('ytick', labelsize=10)"
   ]
  },
  {
   "cell_type": "code",
   "execution_count": 7,
   "id": "0f4746b4",
   "metadata": {},
   "outputs": [],
   "source": [
    "import numpy as np\n",
    "\n",
    "np.random.seed(42)"
   ]
  },
  {
   "cell_type": "code",
   "execution_count": 3,
   "id": "bbe17945",
   "metadata": {},
   "outputs": [
    {
     "name": "stdout",
     "output_type": "stream",
     "text": [
      "Defaulting to user installation because normal site-packages is not writeable\n",
      "Requirement already satisfied: pip in c:\\users\\amirg\\appdata\\roaming\\python\\python313\\site-packages (25.1.1)\n",
      "Requirement already satisfied: setuptools in c:\\users\\amirg\\appdata\\roaming\\python\\python313\\site-packages (80.8.0)\n",
      "Requirement already satisfied: wheel in c:\\users\\amirg\\appdata\\roaming\\python\\python313\\site-packages (0.45.1)\n",
      "Defaulting to user installation because normal site-packages is not writeable\n",
      "Requirement already satisfied: numpy in c:\\users\\amirg\\appdata\\roaming\\python\\python313\\site-packages (2.2.5)\n",
      "Requirement already satisfied: Cython in c:\\users\\amirg\\appdata\\roaming\\python\\python313\\site-packages (3.1.1)\n",
      "Defaulting to user installation because normal site-packages is not writeable\n",
      "Collecting pmdarima\n",
      "  Using cached pmdarima-2.0.4.tar.gz (630 kB)\n",
      "  Installing build dependencies: started\n",
      "  Installing build dependencies: finished with status 'done'\n",
      "  Getting requirements to build wheel: started\n",
      "  Getting requirements to build wheel: finished with status 'done'\n",
      "  Preparing metadata (pyproject.toml): started\n",
      "  Preparing metadata (pyproject.toml): finished with status 'done'\n",
      "Requirement already satisfied: joblib>=0.11 in c:\\users\\amirg\\appdata\\roaming\\python\\python313\\site-packages (from pmdarima) (1.5.0)\n",
      "Requirement already satisfied: Cython!=0.29.18,!=0.29.31,>=0.29 in c:\\users\\amirg\\appdata\\roaming\\python\\python313\\site-packages (from pmdarima) (3.1.1)\n",
      "Requirement already satisfied: numpy>=1.21.2 in c:\\users\\amirg\\appdata\\roaming\\python\\python313\\site-packages (from pmdarima) (2.2.5)\n",
      "Requirement already satisfied: pandas>=0.19 in c:\\users\\amirg\\appdata\\roaming\\python\\python313\\site-packages (from pmdarima) (2.2.3)\n",
      "Requirement already satisfied: scikit-learn>=0.22 in c:\\users\\amirg\\appdata\\roaming\\python\\python313\\site-packages (from pmdarima) (1.6.1)\n",
      "Requirement already satisfied: scipy>=1.3.2 in c:\\users\\amirg\\appdata\\roaming\\python\\python313\\site-packages (from pmdarima) (1.15.3)\n",
      "Requirement already satisfied: statsmodels>=0.13.2 in c:\\users\\amirg\\appdata\\roaming\\python\\python313\\site-packages (from pmdarima) (0.14.4)\n",
      "Requirement already satisfied: urllib3 in c:\\users\\amirg\\appdata\\roaming\\python\\python313\\site-packages (from pmdarima) (2.4.0)\n",
      "Requirement already satisfied: setuptools!=50.0.0,>=38.6.0 in c:\\users\\amirg\\appdata\\roaming\\python\\python313\\site-packages (from pmdarima) (80.8.0)\n",
      "Requirement already satisfied: packaging>=17.1 in c:\\users\\amirg\\appdata\\roaming\\python\\python313\\site-packages (from pmdarima) (25.0)\n",
      "Requirement already satisfied: python-dateutil>=2.8.2 in c:\\users\\amirg\\appdata\\roaming\\python\\python313\\site-packages (from pandas>=0.19->pmdarima) (2.9.0.post0)\n",
      "Requirement already satisfied: pytz>=2020.1 in c:\\users\\amirg\\appdata\\roaming\\python\\python313\\site-packages (from pandas>=0.19->pmdarima) (2025.2)\n",
      "Requirement already satisfied: tzdata>=2022.7 in c:\\users\\amirg\\appdata\\roaming\\python\\python313\\site-packages (from pandas>=0.19->pmdarima) (2025.2)\n",
      "Requirement already satisfied: six>=1.5 in c:\\users\\amirg\\appdata\\roaming\\python\\python313\\site-packages (from python-dateutil>=2.8.2->pandas>=0.19->pmdarima) (1.17.0)\n",
      "Requirement already satisfied: threadpoolctl>=3.1.0 in c:\\users\\amirg\\appdata\\roaming\\python\\python313\\site-packages (from scikit-learn>=0.22->pmdarima) (3.6.0)\n",
      "Requirement already satisfied: patsy>=0.5.6 in c:\\users\\amirg\\appdata\\roaming\\python\\python313\\site-packages (from statsmodels>=0.13.2->pmdarima) (1.0.1)\n",
      "Building wheels for collected packages: pmdarima\n",
      "  Building wheel for pmdarima (pyproject.toml): started\n",
      "  Building wheel for pmdarima (pyproject.toml): finished with status 'error'\n",
      "Failed to build pmdarima\n"
     ]
    },
    {
     "name": "stderr",
     "output_type": "stream",
     "text": [
      "  error: subprocess-exited-with-error\n",
      "  \n",
      "  × Building wheel for pmdarima (pyproject.toml) did not run successfully.\n",
      "  │ exit code: 1\n",
      "  ╰─> [43 lines of output]\n",
      "      Partial import of pmdarima during the build process.\n",
      "      \n",
      "      Requirements: ['joblib>=0.11\\nCython>=0.29,!=0.29.18,!=0.29.31\\nnumpy>=1.21.2\\npandas>=0.19\\nscikit-learn>=0.22\\nscipy>=1.3.2\\nstatsmodels>=0.13.2\\nurllib3\\nsetuptools>=38.6.0,!=50.0.0\\npackaging>=17.1  # Bundled with setuptools, but want to be explicit\\n']\n",
      "      Adding extra setuptools args\n",
      "      Setting up with setuptools\n",
      "      Traceback (most recent call last):\n",
      "        File \"C:\\Users\\amirg\\AppData\\Roaming\\Python\\Python313\\site-packages\\pip\\_vendor\\pyproject_hooks\\_in_process\\_in_process.py\", line 389, in <module>\n",
      "          main()\n",
      "          ~~~~^^\n",
      "        File \"C:\\Users\\amirg\\AppData\\Roaming\\Python\\Python313\\site-packages\\pip\\_vendor\\pyproject_hooks\\_in_process\\_in_process.py\", line 373, in main\n",
      "          json_out[\"return_val\"] = hook(**hook_input[\"kwargs\"])\n",
      "                                   ~~~~^^^^^^^^^^^^^^^^^^^^^^^^\n",
      "        File \"C:\\Users\\amirg\\AppData\\Roaming\\Python\\Python313\\site-packages\\pip\\_vendor\\pyproject_hooks\\_in_process\\_in_process.py\", line 280, in build_wheel\n",
      "          return _build_backend().build_wheel(\n",
      "                 ~~~~~~~~~~~~~~~~~~~~~~~~~~~~^\n",
      "              wheel_directory, config_settings, metadata_directory\n",
      "              ^^^^^^^^^^^^^^^^^^^^^^^^^^^^^^^^^^^^^^^^^^^^^^^^^^^^\n",
      "          )\n",
      "          ^\n",
      "        File \"C:\\Users\\amirg\\AppData\\Local\\Temp\\pip-build-env-uzpbx9y6\\overlay\\Lib\\site-packages\\setuptools\\build_meta.py\", line 435, in build_wheel\n",
      "          return _build(['bdist_wheel', '--dist-info-dir', str(metadata_directory)])\n",
      "        File \"C:\\Users\\amirg\\AppData\\Local\\Temp\\pip-build-env-uzpbx9y6\\overlay\\Lib\\site-packages\\setuptools\\build_meta.py\", line 423, in _build\n",
      "          return self._build_with_temp_dir(\n",
      "                 ~~~~~~~~~~~~~~~~~~~~~~~~~^\n",
      "              cmd,\n",
      "              ^^^^\n",
      "          ...<3 lines>...\n",
      "              self._arbitrary_args(config_settings),\n",
      "              ^^^^^^^^^^^^^^^^^^^^^^^^^^^^^^^^^^^^^^\n",
      "          )\n",
      "          ^\n",
      "        File \"C:\\Users\\amirg\\AppData\\Local\\Temp\\pip-build-env-uzpbx9y6\\overlay\\Lib\\site-packages\\setuptools\\build_meta.py\", line 404, in _build_with_temp_dir\n",
      "          self.run_setup()\n",
      "          ~~~~~~~~~~~~~~^^\n",
      "        File \"C:\\Users\\amirg\\AppData\\Local\\Temp\\pip-build-env-uzpbx9y6\\overlay\\Lib\\site-packages\\setuptools\\build_meta.py\", line 512, in run_setup\n",
      "          super().run_setup(setup_script=setup_script)\n",
      "          ~~~~~~~~~~~~~~~~~^^^^^^^^^^^^^^^^^^^^^^^^^^^\n",
      "        File \"C:\\Users\\amirg\\AppData\\Local\\Temp\\pip-build-env-uzpbx9y6\\overlay\\Lib\\site-packages\\setuptools\\build_meta.py\", line 317, in run_setup\n",
      "          exec(code, locals())\n",
      "          ~~~~^^^^^^^^^^^^^^^^\n",
      "        File \"<string>\", line 371, in <module>\n",
      "        File \"<string>\", line 330, in do_setup\n",
      "      ModuleNotFoundError: No module named 'numpy'\n",
      "      [end of output]\n",
      "  \n",
      "  note: This error originates from a subprocess, and is likely not a problem with pip.\n",
      "  ERROR: Failed building wheel for pmdarima\n",
      "ERROR: Failed to build installable wheels for some pyproject.toml based projects (pmdarima)\n"
     ]
    },
    {
     "name": "stdout",
     "output_type": "stream",
     "text": [
      "Defaulting to user installation because normal site-packages is not writeable\n",
      "Collecting tbats\n",
      "  Using cached tbats-1.1.3-py3-none-any.whl.metadata (3.8 kB)\n",
      "Requirement already satisfied: numpy in c:\\users\\amirg\\appdata\\roaming\\python\\python313\\site-packages (from tbats) (2.2.5)\n",
      "Requirement already satisfied: scipy in c:\\users\\amirg\\appdata\\roaming\\python\\python313\\site-packages (from tbats) (1.15.3)\n",
      "Collecting pmdarima (from tbats)\n",
      "  Using cached pmdarima-2.0.4.tar.gz (630 kB)\n",
      "  Installing build dependencies: started\n",
      "  Installing build dependencies: finished with status 'done'\n",
      "  Getting requirements to build wheel: started\n",
      "  Getting requirements to build wheel: finished with status 'done'\n",
      "  Preparing metadata (pyproject.toml): started\n",
      "  Preparing metadata (pyproject.toml): finished with status 'done'\n",
      "Requirement already satisfied: scikit-learn in c:\\users\\amirg\\appdata\\roaming\\python\\python313\\site-packages (from tbats) (1.6.1)\n",
      "Requirement already satisfied: joblib>=0.11 in c:\\users\\amirg\\appdata\\roaming\\python\\python313\\site-packages (from pmdarima->tbats) (1.5.0)\n",
      "Requirement already satisfied: Cython!=0.29.18,!=0.29.31,>=0.29 in c:\\users\\amirg\\appdata\\roaming\\python\\python313\\site-packages (from pmdarima->tbats) (3.1.1)\n",
      "Requirement already satisfied: pandas>=0.19 in c:\\users\\amirg\\appdata\\roaming\\python\\python313\\site-packages (from pmdarima->tbats) (2.2.3)\n",
      "Requirement already satisfied: statsmodels>=0.13.2 in c:\\users\\amirg\\appdata\\roaming\\python\\python313\\site-packages (from pmdarima->tbats) (0.14.4)\n",
      "Requirement already satisfied: urllib3 in c:\\users\\amirg\\appdata\\roaming\\python\\python313\\site-packages (from pmdarima->tbats) (2.4.0)\n",
      "Requirement already satisfied: setuptools!=50.0.0,>=38.6.0 in c:\\users\\amirg\\appdata\\roaming\\python\\python313\\site-packages (from pmdarima->tbats) (80.8.0)\n",
      "Requirement already satisfied: packaging>=17.1 in c:\\users\\amirg\\appdata\\roaming\\python\\python313\\site-packages (from pmdarima->tbats) (25.0)\n",
      "Requirement already satisfied: python-dateutil>=2.8.2 in c:\\users\\amirg\\appdata\\roaming\\python\\python313\\site-packages (from pandas>=0.19->pmdarima->tbats) (2.9.0.post0)\n",
      "Requirement already satisfied: pytz>=2020.1 in c:\\users\\amirg\\appdata\\roaming\\python\\python313\\site-packages (from pandas>=0.19->pmdarima->tbats) (2025.2)\n",
      "Requirement already satisfied: tzdata>=2022.7 in c:\\users\\amirg\\appdata\\roaming\\python\\python313\\site-packages (from pandas>=0.19->pmdarima->tbats) (2025.2)\n",
      "Requirement already satisfied: six>=1.5 in c:\\users\\amirg\\appdata\\roaming\\python\\python313\\site-packages (from python-dateutil>=2.8.2->pandas>=0.19->pmdarima->tbats) (1.17.0)\n",
      "Requirement already satisfied: threadpoolctl>=3.1.0 in c:\\users\\amirg\\appdata\\roaming\\python\\python313\\site-packages (from scikit-learn->tbats) (3.6.0)\n",
      "Requirement already satisfied: patsy>=0.5.6 in c:\\users\\amirg\\appdata\\roaming\\python\\python313\\site-packages (from statsmodels>=0.13.2->pmdarima->tbats) (1.0.1)\n",
      "Using cached tbats-1.1.3-py3-none-any.whl (44 kB)\n",
      "Building wheels for collected packages: pmdarima\n",
      "  Building wheel for pmdarima (pyproject.toml): started\n",
      "  Building wheel for pmdarima (pyproject.toml): finished with status 'error'\n",
      "Failed to build pmdarima\n"
     ]
    },
    {
     "name": "stderr",
     "output_type": "stream",
     "text": [
      "  error: subprocess-exited-with-error\n",
      "  \n",
      "  × Building wheel for pmdarima (pyproject.toml) did not run successfully.\n",
      "  │ exit code: 1\n",
      "  ╰─> [43 lines of output]\n",
      "      Partial import of pmdarima during the build process.\n",
      "      \n",
      "      Requirements: ['joblib>=0.11\\nCython>=0.29,!=0.29.18,!=0.29.31\\nnumpy>=1.21.2\\npandas>=0.19\\nscikit-learn>=0.22\\nscipy>=1.3.2\\nstatsmodels>=0.13.2\\nurllib3\\nsetuptools>=38.6.0,!=50.0.0\\npackaging>=17.1  # Bundled with setuptools, but want to be explicit\\n']\n",
      "      Adding extra setuptools args\n",
      "      Setting up with setuptools\n",
      "      Traceback (most recent call last):\n",
      "        File \"C:\\Users\\amirg\\AppData\\Roaming\\Python\\Python313\\site-packages\\pip\\_vendor\\pyproject_hooks\\_in_process\\_in_process.py\", line 389, in <module>\n",
      "          main()\n",
      "          ~~~~^^\n",
      "        File \"C:\\Users\\amirg\\AppData\\Roaming\\Python\\Python313\\site-packages\\pip\\_vendor\\pyproject_hooks\\_in_process\\_in_process.py\", line 373, in main\n",
      "          json_out[\"return_val\"] = hook(**hook_input[\"kwargs\"])\n",
      "                                   ~~~~^^^^^^^^^^^^^^^^^^^^^^^^\n",
      "        File \"C:\\Users\\amirg\\AppData\\Roaming\\Python\\Python313\\site-packages\\pip\\_vendor\\pyproject_hooks\\_in_process\\_in_process.py\", line 280, in build_wheel\n",
      "          return _build_backend().build_wheel(\n",
      "                 ~~~~~~~~~~~~~~~~~~~~~~~~~~~~^\n",
      "              wheel_directory, config_settings, metadata_directory\n",
      "              ^^^^^^^^^^^^^^^^^^^^^^^^^^^^^^^^^^^^^^^^^^^^^^^^^^^^\n",
      "          )\n",
      "          ^\n",
      "        File \"C:\\Users\\amirg\\AppData\\Local\\Temp\\pip-build-env-b0wnsf44\\overlay\\Lib\\site-packages\\setuptools\\build_meta.py\", line 435, in build_wheel\n",
      "          return _build(['bdist_wheel', '--dist-info-dir', str(metadata_directory)])\n",
      "        File \"C:\\Users\\amirg\\AppData\\Local\\Temp\\pip-build-env-b0wnsf44\\overlay\\Lib\\site-packages\\setuptools\\build_meta.py\", line 423, in _build\n",
      "          return self._build_with_temp_dir(\n",
      "                 ~~~~~~~~~~~~~~~~~~~~~~~~~^\n",
      "              cmd,\n",
      "              ^^^^\n",
      "          ...<3 lines>...\n",
      "              self._arbitrary_args(config_settings),\n",
      "              ^^^^^^^^^^^^^^^^^^^^^^^^^^^^^^^^^^^^^^\n",
      "          )\n",
      "          ^\n",
      "        File \"C:\\Users\\amirg\\AppData\\Local\\Temp\\pip-build-env-b0wnsf44\\overlay\\Lib\\site-packages\\setuptools\\build_meta.py\", line 404, in _build_with_temp_dir\n",
      "          self.run_setup()\n",
      "          ~~~~~~~~~~~~~~^^\n",
      "        File \"C:\\Users\\amirg\\AppData\\Local\\Temp\\pip-build-env-b0wnsf44\\overlay\\Lib\\site-packages\\setuptools\\build_meta.py\", line 512, in run_setup\n",
      "          super().run_setup(setup_script=setup_script)\n",
      "          ~~~~~~~~~~~~~~~~~^^^^^^^^^^^^^^^^^^^^^^^^^^^\n",
      "        File \"C:\\Users\\amirg\\AppData\\Local\\Temp\\pip-build-env-b0wnsf44\\overlay\\Lib\\site-packages\\setuptools\\build_meta.py\", line 317, in run_setup\n",
      "          exec(code, locals())\n",
      "          ~~~~^^^^^^^^^^^^^^^^\n",
      "        File \"<string>\", line 371, in <module>\n",
      "        File \"<string>\", line 330, in do_setup\n",
      "      ModuleNotFoundError: No module named 'numpy'\n",
      "      [end of output]\n",
      "  \n",
      "  note: This error originates from a subprocess, and is likely not a problem with pip.\n",
      "  ERROR: Failed building wheel for pmdarima\n",
      "ERROR: Failed to build installable wheels for some pyproject.toml based projects (pmdarima)\n"
     ]
    }
   ],
   "source": [
    "import sys\n",
    "# 1) Upgrade packaging tools  \n",
    "!{sys.executable} -m pip install --upgrade pip setuptools wheel\n",
    "\n",
    "# 2) Install NumPy headers and Cython for builds  \n",
    "!{sys.executable} -m pip install numpy Cython\n",
    "\n",
    "# 3) Install pmdarima (required by TBATS)  \n",
    "!{sys.executable} -m pip install pmdarima\n",
    "\n",
    "# 4) Finally install TBATS  \n",
    "!{sys.executable} -m pip install tbats\n",
    "\n",
    "\n",
    "\n",
    "\n",
    "\n",
    "\n"
   ]
  },
  {
   "cell_type": "code",
   "execution_count": 4,
   "id": "1f3292bb",
   "metadata": {},
   "outputs": [
    {
     "ename": "ModuleNotFoundError",
     "evalue": "No module named 'tbats'",
     "output_type": "error",
     "traceback": [
      "\u001b[31m---------------------------------------------------------------------------\u001b[39m",
      "\u001b[31mModuleNotFoundError\u001b[39m                       Traceback (most recent call last)",
      "\u001b[36mCell\u001b[39m\u001b[36m \u001b[39m\u001b[32mIn[4]\u001b[39m\u001b[32m, line 11\u001b[39m\n\u001b[32m      9\u001b[39m \u001b[38;5;28;01mimport\u001b[39;00m\u001b[38;5;250m \u001b[39m\u001b[34;01mpandas\u001b[39;00m\u001b[38;5;250m \u001b[39m\u001b[38;5;28;01mas\u001b[39;00m\u001b[38;5;250m \u001b[39m\u001b[34;01mpd\u001b[39;00m\n\u001b[32m     10\u001b[39m \u001b[38;5;28;01mimport\u001b[39;00m\u001b[38;5;250m \u001b[39m\u001b[34;01mmatplotlib\u001b[39;00m\u001b[34;01m.\u001b[39;00m\u001b[34;01mpyplot\u001b[39;00m\u001b[38;5;250m \u001b[39m\u001b[38;5;28;01mas\u001b[39;00m\u001b[38;5;250m \u001b[39m\u001b[34;01mplt\u001b[39;00m\n\u001b[32m---> \u001b[39m\u001b[32m11\u001b[39m \u001b[38;5;28;01mfrom\u001b[39;00m\u001b[38;5;250m \u001b[39m\u001b[34;01mtbats\u001b[39;00m\u001b[38;5;250m \u001b[39m\u001b[38;5;28;01mimport\u001b[39;00m TBATS\n\u001b[32m     13\u001b[39m \u001b[38;5;66;03m# 1) Load and clean (same as before)\u001b[39;00m\n\u001b[32m     14\u001b[39m df = (\n\u001b[32m     15\u001b[39m     pd.read_csv(\u001b[33m\"\u001b[39m\u001b[33mNetherlandsTrain.csv\u001b[39m\u001b[33m\"\u001b[39m, parse_dates=[\u001b[33m\"\u001b[39m\u001b[33mDatetime (UTC)\u001b[39m\u001b[33m\"\u001b[39m])\n\u001b[32m     16\u001b[39m       .sort_values(\u001b[33m\"\u001b[39m\u001b[33mDatetime (UTC)\u001b[39m\u001b[33m\"\u001b[39m)\n\u001b[32m   (...)\u001b[39m\u001b[32m     19\u001b[39m       .asfreq(\u001b[33m\"\u001b[39m\u001b[33mh\u001b[39m\u001b[33m\"\u001b[39m)\n\u001b[32m     20\u001b[39m )\n",
      "\u001b[31mModuleNotFoundError\u001b[39m: No module named 'tbats'"
     ]
    }
   ],
   "source": [
    "# --------------------------------------\n",
    "# Complete drop-in replacement (copy-paste)\n",
    "# Forecasts hourly prices for all of 2024\n",
    "# using a SARIMAX seasonal ARIMA model\n",
    "# --------------------------------------\n",
    "# If statsmodels is missing, run:\n",
    "#   pip install statsmodels\n",
    "\n",
    "import pandas as pd\n",
    "import matplotlib.pyplot as plt\n",
    "from tbats import TBATS\n",
    "\n",
    "# 1) Load and clean (same as before)\n",
    "df = (\n",
    "    pd.read_csv(\"NetherlandsTrain.csv\", parse_dates=[\"Datetime (UTC)\"])\n",
    "      .sort_values(\"Datetime (UTC)\")\n",
    "      .dropna(subset=[\"Price (EUR/MWhe)\"])\n",
    "      .set_index(\"Datetime (UTC)\")\n",
    "      .asfreq(\"h\")\n",
    ")\n",
    "y = df[\"Price (EUR/MWhe)\"]\n"
   ]
  },
  {
   "cell_type": "code",
   "execution_count": null,
   "id": "f81e9b27",
   "metadata": {},
   "outputs": [
    {
     "name": "stderr",
     "output_type": "stream",
     "text": [
      "15:26:23 - cmdstanpy - INFO - Chain [1] start processing\n",
      "15:27:23 - cmdstanpy - INFO - Chain [1] done processing\n"
     ]
    },
    {
     "data": {
      "text/plain": [
       "<prophet.forecaster.Prophet at 0x23cd87e2ba0>"
      ]
     },
     "execution_count": 20,
     "metadata": {},
     "output_type": "execute_result"
    }
   ],
   "source": [
    "# 2) Specify and fit TBATS with multiple seasonal periods:\n",
    "#    daily=24h, weekly=168h, yearly≈8760h (leap-year ignored in fit)\n",
    "estimator = TBATS(\n",
    "    seasonal_periods=(24, 168, 8760),\n",
    "    use_arma_errors=True,    # include ARMA errors on the residuals\n",
    "    n_jobs=1                 # set >1 to parallelize fitting\n",
    ")\n",
    "model = estimator.fit(y)"
   ]
  },
  {
   "cell_type": "code",
   "execution_count": null,
   "id": "666d02e3",
   "metadata": {},
   "outputs": [],
   "source": [
    "# 3) Forecast every hour of 2024\n",
    "n_hours_2024 = 24 * 366    # 2024 is a leap year\n",
    "forecast_values = model.forecast(steps=n_hours_2024)\n",
    "\n",
    "# Build a DatetimeIndex for 2024\n",
    "idx_2024 = pd.date_range(\n",
    "    start=\"2024-01-01 00:00:00\",\n",
    "    periods=n_hours_2024,\n",
    "    freq=\"H\",\n",
    "    tz=None\n",
    ")\n",
    "\n",
    "forecast_2024 = pd.Series(forecast_values, index=idx_2024)"
   ]
  },
  {
   "cell_type": "code",
   "execution_count": null,
   "id": "aa7b8e95",
   "metadata": {},
   "outputs": [
    {
     "name": "stdout",
     "output_type": "stream",
     "text": [
      "Forecasted price at 2024-12-30 20:00:00 is -123.87 EUR/MWhe\n"
     ]
    }
   ],
   "source": [
    "# 4) Plot history + TBATS forecast\n",
    "plt.figure(figsize=(14, 6))\n",
    "plt.scatter(y.index, y.values,\n",
    "            s=10, alpha=0.5, label=\"Historical price\")\n",
    "plt.plot(forecast_2024.index, forecast_2024.values,\n",
    "         color=\"green\", linewidth=1.5,\n",
    "         label=\"TBATS forecast 2024\")\n",
    "\n",
    "plt.xlabel(\"Datetime (UTC)\")\n",
    "plt.ylabel(\"Price (EUR/MWhe)\")\n",
    "plt.title(\"Dutch electricity price • history and TBATS forecast for 2024\")\n",
    "plt.legend()\n",
    "plt.tight_layout()\n",
    "plt.gcf().autofmt_xdate()\n",
    "plt.show()"
   ]
  },
  {
   "cell_type": "code",
   "execution_count": null,
   "id": "aac825cc",
   "metadata": {},
   "outputs": [
    {
     "name": "stdout",
     "output_type": "stream",
     "text": [
      "Series([], Freq: h, Name: pred, dtype: float64)\n",
      "Series([], Freq: h, Name: pred, dtype: float64)\n"
     ]
    }
   ],
   "source": [
    "# ── 5. Peek at the first 11 hourly forecasts of 2024 ─────────\n",
    "pred_slice = pred_2024.loc[\"2024-01-01 01:00:00\" : \"2024-01-01 11:00:00\"]\n",
    "print(pred_slice)\n",
    "\n",
    "pred_slice = pred_2024.loc[\"2024-07-01 01:00:00\" : \"2024-07-01 11:00:00\"]\n",
    "print(pred_slice)"
   ]
  }
 ],
 "metadata": {
  "kernelspec": {
   "display_name": "Python 3",
   "language": "python",
   "name": "python3"
  },
  "language_info": {
   "codemirror_mode": {
    "name": "ipython",
    "version": 3
   },
   "file_extension": ".py",
   "mimetype": "text/x-python",
   "name": "python",
   "nbconvert_exporter": "python",
   "pygments_lexer": "ipython3",
   "version": "3.13.1"
  }
 },
 "nbformat": 4,
 "nbformat_minor": 5
}
