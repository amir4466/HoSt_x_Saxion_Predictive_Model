{
 "cells": [
  {
   "cell_type": "markdown",
   "id": "ba694b1a",
   "metadata": {},
   "source": [
    "# HoSt Predictive Model"
   ]
  },
  {
   "cell_type": "code",
   "execution_count": 3,
   "id": "b61b891e",
   "metadata": {},
   "outputs": [],
   "source": [
    "import sys\n",
    "\n",
    "assert sys.version_info >= (3, 7)"
   ]
  },
  {
   "cell_type": "code",
   "execution_count": 5,
   "id": "d3afd1d7",
   "metadata": {},
   "outputs": [],
   "source": [
    "from packaging import version\n",
    "import sklearn\n",
    "\n",
    "assert version.parse(sklearn.__version__) >= version.parse(\"1.0.1\")"
   ]
  },
  {
   "cell_type": "code",
   "execution_count": 7,
   "id": "669c86a4",
   "metadata": {},
   "outputs": [],
   "source": [
    "import matplotlib.pyplot as plt\n",
    "\n",
    "plt.rc('font', size=12)\n",
    "plt.rc('axes', labelsize=14, titlesize=14)\n",
    "plt.rc('legend', fontsize=12)\n",
    "plt.rc('xtick', labelsize=10)\n",
    "plt.rc('ytick', labelsize=10)"
   ]
  },
  {
   "cell_type": "code",
   "execution_count": 8,
   "id": "0f4746b4",
   "metadata": {},
   "outputs": [],
   "source": [
    "import numpy as np\n",
    "\n",
    "np.random.seed(42)"
   ]
  },
  {
   "cell_type": "code",
   "execution_count": 51,
   "id": "1f3292bb",
   "metadata": {},
   "outputs": [],
   "source": [
    "# --------------------------------------\n",
    "# Complete drop-in replacement (copy-paste)\n",
    "# Forecasts hourly prices for all of 2024\n",
    "# using a SARIMAX seasonal ARIMA model\n",
    "# --------------------------------------\n",
    "# If statsmodels is missing, run:\n",
    "#   pip install statsmodels\n",
    "\n",
    "import pandas as pd\n",
    "import matplotlib.pyplot as plt\n",
    "from statsmodels.tsa.statespace.sarimax import SARIMAX\n",
    "\n",
    "# 1) Load and clean\n",
    "df = (pd.read_csv(\"NetherlandsTrain.csv\", parse_dates=[\"Datetime (UTC)\"])\n",
    "        .sort_values(\"Datetime (UTC)\")\n",
    "        .dropna(subset=[\"Price (EUR/MWhe)\"])\n",
    "        .set_index(\"Datetime (UTC)\")\n",
    "        .asfreq(\"h\"))                 # guarantee an hourly index\n",
    "\n",
    "y = df[\"Price (EUR/MWhe)\"]\n"
   ]
  },
  {
   "cell_type": "code",
   "execution_count": 52,
   "id": "f81e9b27",
   "metadata": {},
   "outputs": [
    {
     "ename": "MemoryError",
     "evalue": "Unable to allocate 1.47 GiB for an array with shape (50, 50, 78888) and data type float64",
     "output_type": "error",
     "traceback": [
      "\u001b[31m---------------------------------------------------------------------------\u001b[39m",
      "\u001b[31mMemoryError\u001b[39m                               Traceback (most recent call last)",
      "\u001b[36mCell\u001b[39m\u001b[36m \u001b[39m\u001b[32mIn[52]\u001b[39m\u001b[32m, line 8\u001b[39m\n\u001b[32m      1\u001b[39m \u001b[38;5;66;03m# 2) Fit SARIMAX — daily seasonality (24 h)\u001b[39;00m\n\u001b[32m      2\u001b[39m \u001b[38;5;66;03m#    (1,0,1) for local dynamics, (2,0,2,24) for 24-hour cycle\u001b[39;00m\n\u001b[32m      3\u001b[39m model   = SARIMAX(y,\n\u001b[32m      4\u001b[39m                   order=(\u001b[32m1\u001b[39m, \u001b[32m0\u001b[39m, \u001b[32m1\u001b[39m),\n\u001b[32m      5\u001b[39m                   seasonal_order=(\u001b[32m2\u001b[39m, \u001b[32m0\u001b[39m, \u001b[32m2\u001b[39m, \u001b[32m24\u001b[39m),\n\u001b[32m      6\u001b[39m                   enforce_stationarity=\u001b[38;5;28;01mFalse\u001b[39;00m,\n\u001b[32m      7\u001b[39m                   enforce_invertibility=\u001b[38;5;28;01mFalse\u001b[39;00m)\n\u001b[32m----> \u001b[39m\u001b[32m8\u001b[39m results = \u001b[43mmodel\u001b[49m\u001b[43m.\u001b[49m\u001b[43mfit\u001b[49m\u001b[43m(\u001b[49m\u001b[43mdisp\u001b[49m\u001b[43m=\u001b[49m\u001b[38;5;28;43;01mFalse\u001b[39;49;00m\u001b[43m)\u001b[49m\n",
      "\u001b[36mFile \u001b[39m\u001b[32mc:\\Users\\filip\\AppData\\Local\\Programs\\Python\\Python313\\Lib\\site-packages\\statsmodels\\tsa\\statespace\\mlemodel.py:729\u001b[39m, in \u001b[36mMLEModel.fit\u001b[39m\u001b[34m(self, start_params, transformed, includes_fixed, cov_type, cov_kwds, method, maxiter, full_output, disp, callback, return_params, optim_score, optim_complex_step, optim_hessian, flags, low_memory, **kwargs)\u001b[39m\n\u001b[32m    727\u001b[39m \u001b[38;5;28;01melse\u001b[39;00m:\n\u001b[32m    728\u001b[39m     func = \u001b[38;5;28mself\u001b[39m.smooth\n\u001b[32m--> \u001b[39m\u001b[32m729\u001b[39m res = \u001b[43mfunc\u001b[49m\u001b[43m(\u001b[49m\u001b[43mmlefit\u001b[49m\u001b[43m.\u001b[49m\u001b[43mparams\u001b[49m\u001b[43m,\u001b[49m\u001b[43m \u001b[49m\u001b[43mtransformed\u001b[49m\u001b[43m=\u001b[49m\u001b[38;5;28;43;01mFalse\u001b[39;49;00m\u001b[43m,\u001b[49m\u001b[43m \u001b[49m\u001b[43mincludes_fixed\u001b[49m\u001b[43m=\u001b[49m\u001b[38;5;28;43;01mFalse\u001b[39;49;00m\u001b[43m,\u001b[49m\n\u001b[32m    730\u001b[39m \u001b[43m           \u001b[49m\u001b[43mcov_type\u001b[49m\u001b[43m=\u001b[49m\u001b[43mcov_type\u001b[49m\u001b[43m,\u001b[49m\u001b[43m \u001b[49m\u001b[43mcov_kwds\u001b[49m\u001b[43m=\u001b[49m\u001b[43mcov_kwds\u001b[49m\u001b[43m)\u001b[49m\n\u001b[32m    732\u001b[39m res.mlefit = mlefit\n\u001b[32m    733\u001b[39m res.mle_retvals = mlefit.mle_retvals\n",
      "\u001b[36mFile \u001b[39m\u001b[32mc:\\Users\\filip\\AppData\\Local\\Programs\\Python\\Python313\\Lib\\site-packages\\statsmodels\\tsa\\statespace\\mlemodel.py:887\u001b[39m, in \u001b[36mMLEModel.smooth\u001b[39m\u001b[34m(self, params, transformed, includes_fixed, complex_step, cov_type, cov_kwds, return_ssm, results_class, results_wrapper_class, **kwargs)\u001b[39m\n\u001b[32m    884\u001b[39m     kwargs[\u001b[33m'\u001b[39m\u001b[33minversion_method\u001b[39m\u001b[33m'\u001b[39m] = INVERT_UNIVARIATE | SOLVE_LU\n\u001b[32m    886\u001b[39m \u001b[38;5;66;03m# Get the state space output\u001b[39;00m\n\u001b[32m--> \u001b[39m\u001b[32m887\u001b[39m result = \u001b[38;5;28;43mself\u001b[39;49m\u001b[43m.\u001b[49m\u001b[43mssm\u001b[49m\u001b[43m.\u001b[49m\u001b[43msmooth\u001b[49m\u001b[43m(\u001b[49m\u001b[43mcomplex_step\u001b[49m\u001b[43m=\u001b[49m\u001b[43mcomplex_step\u001b[49m\u001b[43m,\u001b[49m\u001b[43m \u001b[49m\u001b[43m*\u001b[49m\u001b[43m*\u001b[49m\u001b[43mkwargs\u001b[49m\u001b[43m)\u001b[49m\n\u001b[32m    889\u001b[39m \u001b[38;5;66;03m# Wrap in a results object\u001b[39;00m\n\u001b[32m    890\u001b[39m \u001b[38;5;28;01mreturn\u001b[39;00m \u001b[38;5;28mself\u001b[39m._wrap_results(params, result, return_ssm, cov_type,\n\u001b[32m    891\u001b[39m                           cov_kwds, results_class,\n\u001b[32m    892\u001b[39m                           results_wrapper_class)\n",
      "\u001b[36mFile \u001b[39m\u001b[32mc:\\Users\\filip\\AppData\\Local\\Programs\\Python\\Python313\\Lib\\site-packages\\statsmodels\\tsa\\statespace\\kalman_smoother.py:419\u001b[39m, in \u001b[36mKalmanSmoother.smooth\u001b[39m\u001b[34m(self, smoother_output, smooth_method, results, run_filter, prefix, complex_step, update_representation, update_filter, update_smoother, **kwargs)\u001b[39m\n\u001b[32m    417\u001b[39m \u001b[38;5;28;01mif\u001b[39;00m smoother_output \u001b[38;5;129;01mis\u001b[39;00m \u001b[38;5;28;01mNone\u001b[39;00m:\n\u001b[32m    418\u001b[39m     smoother_output = \u001b[38;5;28mself\u001b[39m.smoother_output\n\u001b[32m--> \u001b[39m\u001b[32m419\u001b[39m smoother = \u001b[38;5;28;43mself\u001b[39;49m\u001b[43m.\u001b[49m\u001b[43m_smooth\u001b[49m\u001b[43m(\u001b[49m\u001b[43msmoother_output\u001b[49m\u001b[43m,\u001b[49m\u001b[43m \u001b[49m\u001b[43mresults\u001b[49m\u001b[43m=\u001b[49m\u001b[43mresults\u001b[49m\u001b[43m,\u001b[49m\u001b[43m \u001b[49m\u001b[43m*\u001b[49m\u001b[43m*\u001b[49m\u001b[43mkwargs\u001b[49m\u001b[43m)\u001b[49m\n\u001b[32m    421\u001b[39m \u001b[38;5;66;03m# Update the results\u001b[39;00m\n\u001b[32m    422\u001b[39m \u001b[38;5;28;01mif\u001b[39;00m update_smoother:\n",
      "\u001b[36mFile \u001b[39m\u001b[32mc:\\Users\\filip\\AppData\\Local\\Programs\\Python\\Python313\\Lib\\site-packages\\statsmodels\\tsa\\statespace\\kalman_smoother.py:355\u001b[39m, in \u001b[36mKalmanSmoother._smooth\u001b[39m\u001b[34m(self, smoother_output, smooth_method, prefix, complex_step, results, **kwargs)\u001b[39m\n\u001b[32m    351\u001b[39m \u001b[38;5;28;01mdef\u001b[39;00m\u001b[38;5;250m \u001b[39m\u001b[34m_smooth\u001b[39m(\u001b[38;5;28mself\u001b[39m, smoother_output=\u001b[38;5;28;01mNone\u001b[39;00m, smooth_method=\u001b[38;5;28;01mNone\u001b[39;00m, prefix=\u001b[38;5;28;01mNone\u001b[39;00m,\n\u001b[32m    352\u001b[39m             complex_step=\u001b[38;5;28;01mFalse\u001b[39;00m, results=\u001b[38;5;28;01mNone\u001b[39;00m, **kwargs):\n\u001b[32m    353\u001b[39m     \u001b[38;5;66;03m# Initialize the smoother\u001b[39;00m\n\u001b[32m    354\u001b[39m     prefix, dtype, create_smoother, create_filter, create_statespace = (\n\u001b[32m--> \u001b[39m\u001b[32m355\u001b[39m         \u001b[38;5;28;43mself\u001b[39;49m\u001b[43m.\u001b[49m\u001b[43m_initialize_smoother\u001b[49m\u001b[43m(\u001b[49m\n\u001b[32m    356\u001b[39m \u001b[43m            \u001b[49m\u001b[43msmoother_output\u001b[49m\u001b[43m,\u001b[49m\u001b[43m \u001b[49m\u001b[43msmooth_method\u001b[49m\u001b[43m,\u001b[49m\u001b[43m \u001b[49m\u001b[43mprefix\u001b[49m\u001b[43m=\u001b[49m\u001b[43mprefix\u001b[49m\u001b[43m,\u001b[49m\u001b[43m \u001b[49m\u001b[43m*\u001b[49m\u001b[43m*\u001b[49m\u001b[43mkwargs\u001b[49m\n\u001b[32m    357\u001b[39m \u001b[43m        \u001b[49m\u001b[43m)\u001b[49m)\n\u001b[32m    359\u001b[39m     \u001b[38;5;66;03m# Check that the filter and statespace weren't just recreated\u001b[39;00m\n\u001b[32m    360\u001b[39m     \u001b[38;5;28;01mif\u001b[39;00m create_filter \u001b[38;5;129;01mor\u001b[39;00m create_statespace:\n",
      "\u001b[36mFile \u001b[39m\u001b[32mc:\\Users\\filip\\AppData\\Local\\Programs\\Python\\Python313\\Lib\\site-packages\\statsmodels\\tsa\\statespace\\kalman_smoother.py:179\u001b[39m, in \u001b[36mKalmanSmoother._initialize_smoother\u001b[39m\u001b[34m(self, smoother_output, smooth_method, prefix, **kwargs)\u001b[39m\n\u001b[32m    176\u001b[39m \u001b[38;5;28;01mif\u001b[39;00m create_smoother:\n\u001b[32m    177\u001b[39m     \u001b[38;5;66;03m# Setup the smoother\u001b[39;00m\n\u001b[32m    178\u001b[39m     \u001b[38;5;28mcls\u001b[39m = \u001b[38;5;28mself\u001b[39m.prefix_kalman_smoother_map[prefix]\n\u001b[32m--> \u001b[39m\u001b[32m179\u001b[39m     \u001b[38;5;28mself\u001b[39m._kalman_smoothers[prefix] = \u001b[38;5;28;43mcls\u001b[39;49m\u001b[43m(\u001b[49m\n\u001b[32m    180\u001b[39m \u001b[43m        \u001b[49m\u001b[38;5;28;43mself\u001b[39;49m\u001b[43m.\u001b[49m\u001b[43m_statespaces\u001b[49m\u001b[43m[\u001b[49m\u001b[43mprefix\u001b[49m\u001b[43m]\u001b[49m\u001b[43m,\u001b[49m\u001b[43m \u001b[49m\u001b[38;5;28;43mself\u001b[39;49m\u001b[43m.\u001b[49m\u001b[43m_kalman_filters\u001b[49m\u001b[43m[\u001b[49m\u001b[43mprefix\u001b[49m\u001b[43m]\u001b[49m\u001b[43m,\u001b[49m\n\u001b[32m    181\u001b[39m \u001b[43m        \u001b[49m\u001b[43msmoother_output\u001b[49m\u001b[43m,\u001b[49m\u001b[43m \u001b[49m\u001b[43msmooth_method\u001b[49m\n\u001b[32m    182\u001b[39m \u001b[43m    \u001b[49m\u001b[43m)\u001b[49m\n\u001b[32m    183\u001b[39m \u001b[38;5;66;03m# Otherwise, update the smoother parameters\u001b[39;00m\n\u001b[32m    184\u001b[39m \u001b[38;5;28;01melse\u001b[39;00m:\n\u001b[32m    185\u001b[39m     \u001b[38;5;28mself\u001b[39m._kalman_smoothers[prefix].set_smoother_output(\n\u001b[32m    186\u001b[39m         smoother_output, \u001b[38;5;28;01mFalse\u001b[39;00m)\n",
      "\u001b[36mFile \u001b[39m\u001b[32mstatsmodels\\\\tsa\\\\statespace\\\\_kalman_smoother.pyx:964\u001b[39m, in \u001b[36mstatsmodels.tsa.statespace._kalman_smoother.dKalmanSmoother.__init__\u001b[39m\u001b[34m()\u001b[39m\n",
      "\u001b[36mFile \u001b[39m\u001b[32mstatsmodels\\\\tsa\\\\statespace\\\\_kalman_smoother.pyx:1134\u001b[39m, in \u001b[36mstatsmodels.tsa.statespace._kalman_smoother.dKalmanSmoother.set_smoother_output\u001b[39m\u001b[34m()\u001b[39m\n",
      "\u001b[36mFile \u001b[39m\u001b[32mstatsmodels\\\\tsa\\\\statespace\\\\_kalman_smoother.pyx:1168\u001b[39m, in \u001b[36mstatsmodels.tsa.statespace._kalman_smoother.dKalmanSmoother.reset\u001b[39m\u001b[34m()\u001b[39m\n",
      "\u001b[36mFile \u001b[39m\u001b[32mstatsmodels\\\\tsa\\\\statespace\\\\_kalman_smoother.pyx:1121\u001b[39m, in \u001b[36mstatsmodels.tsa.statespace._kalman_smoother.dKalmanSmoother.reset_filter_method\u001b[39m\u001b[34m()\u001b[39m\n",
      "\u001b[36mFile \u001b[39m\u001b[32mstatsmodels\\\\tsa\\\\statespace\\\\_kalman_smoother.pyx:988\u001b[39m, in \u001b[36mstatsmodels.tsa.statespace._kalman_smoother.dKalmanSmoother.allocate_arrays\u001b[39m\u001b[34m()\u001b[39m\n",
      "\u001b[31mMemoryError\u001b[39m: Unable to allocate 1.47 GiB for an array with shape (50, 50, 78888) and data type float64"
     ]
    }
   ],
   "source": [
    "# 2) Fit SARIMAX — daily seasonality (24 h)\n",
    "#    (1,0,1) for local dynamics, (2,0,2,24) for 24-hour cycle\n",
    "model   = SARIMAX(y,\n",
    "                  order=(1, 0, 1),\n",
    "                  seasonal_order=(2, 0, 2, 24),\n",
    "                  enforce_stationarity=False,\n",
    "                  enforce_invertibility=False)\n",
    "results = model.fit(disp=False)"
   ]
  },
  {
   "cell_type": "code",
   "execution_count": null,
   "id": "666d02e3",
   "metadata": {},
   "outputs": [],
   "source": [
    "# 3) Predict every hour of 2024\n",
    "start_2024 = \"2024-01-01 00:00:00\"\n",
    "end_2024   = \"2024-12-31 23:00:00\"\n",
    "pred_2024  = results.get_prediction(start=start_2024,\n",
    "                                    end=end_2024,\n",
    "                                    dynamic=False).predicted_mean\n"
   ]
  },
  {
   "cell_type": "code",
   "execution_count": null,
   "id": "f7f41c80",
   "metadata": {},
   "outputs": [],
   "source": [
    "# 4) Plot: history + red 2024 forecast\n",
    "plt.figure(figsize=(14, 6))\n",
    "plt.scatter(y.index, y.values,\n",
    "            s=10, alpha=0.5, label=\"Historical price\")\n",
    "plt.plot(pred_2024.index, pred_2024.values,\n",
    "         color=\"red\", linewidth=1.5,\n",
    "         label=\"Hourly prediction 2024\")\n",
    "\n",
    "plt.xlabel(\"Datetime (UTC)\")\n",
    "plt.ylabel(\"Price (EUR/MWhe)\")\n",
    "plt.title(\"Dutch electricity price • history and SARIMAX forecast for 2024\")\n",
    "plt.legend()\n",
    "plt.tight_layout()\n",
    "plt.gcf().autofmt_xdate()\n",
    "plt.show()"
   ]
  },
  {
   "cell_type": "code",
   "execution_count": null,
   "id": "aac825cc",
   "metadata": {},
   "outputs": [
    {
     "name": "stdout",
     "output_type": "stream",
     "text": [
      "Series([], Freq: h, Name: pred, dtype: float64)\n",
      "Series([], Freq: h, Name: pred, dtype: float64)\n"
     ]
    }
   ],
   "source": [
    "# ── 5. Peek at the first 11 hourly forecasts of 2024 ─────────\n",
    "pred_slice = pred_2024.loc[\"2024-01-01 01:00:00\" : \"2024-01-01 11:00:00\"]\n",
    "print(pred_slice)\n",
    "\n",
    "pred_slice = pred_2024.loc[\"2024-07-01 01:00:00\" : \"2024-07-01 11:00:00\"]\n",
    "print(pred_slice)"
   ]
  }
 ],
 "metadata": {
  "kernelspec": {
   "display_name": "Python 3",
   "language": "python",
   "name": "python3"
  },
  "language_info": {
   "codemirror_mode": {
    "name": "ipython",
    "version": 3
   },
   "file_extension": ".py",
   "mimetype": "text/x-python",
   "name": "python",
   "nbconvert_exporter": "python",
   "pygments_lexer": "ipython3",
   "version": "3.13.3"
  }
 },
 "nbformat": 4,
 "nbformat_minor": 5
}
