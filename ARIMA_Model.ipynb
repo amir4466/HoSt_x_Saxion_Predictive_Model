{
 "cells": [
  {
   "cell_type": "markdown",
   "id": "ba694b1a",
   "metadata": {},
   "source": [
    "# HoSt Predictive Model"
   ]
  },
  {
   "cell_type": "code",
   "execution_count": 1,
   "id": "b61b891e",
   "metadata": {},
   "outputs": [],
   "source": [
    "import sys\n",
    "\n",
    "assert sys.version_info >= (3, 7)"
   ]
  },
  {
   "cell_type": "code",
   "execution_count": null,
   "id": "b2c78f65",
   "metadata": {},
   "outputs": [],
   "source": []
  },
  {
   "cell_type": "code",
   "execution_count": 2,
   "id": "d3afd1d7",
   "metadata": {},
   "outputs": [],
   "source": [
    "from packaging import version\n",
    "import sklearn\n",
    "\n",
    "assert version.parse(sklearn.__version__) >= version.parse(\"1.0.1\")"
   ]
  },
  {
   "cell_type": "code",
   "execution_count": 3,
   "id": "669c86a4",
   "metadata": {},
   "outputs": [],
   "source": [
    "import matplotlib.pyplot as plt\n",
    "\n",
    "plt.rc('font', size=12)\n",
    "plt.rc('axes', labelsize=14, titlesize=14)\n",
    "plt.rc('legend', fontsize=12)\n",
    "plt.rc('xtick', labelsize=10)\n",
    "plt.rc('ytick', labelsize=10)"
   ]
  },
  {
   "cell_type": "code",
   "execution_count": 4,
   "id": "0f4746b4",
   "metadata": {},
   "outputs": [],
   "source": [
    "import numpy as np\n",
    "\n",
    "np.random.seed(42)"
   ]
  },
  {
   "cell_type": "code",
   "execution_count": 3,
   "id": "bbe17945",
   "metadata": {},
   "outputs": [
    {
     "name": "stdout",
     "output_type": "stream",
     "text": [
      "Defaulting to user installation because normal site-packages is not writeable\n",
      "Requirement already satisfied: pip in c:\\users\\amirg\\appdata\\roaming\\python\\python313\\site-packages (25.1.1)\n",
      "Requirement already satisfied: setuptools in c:\\users\\amirg\\appdata\\roaming\\python\\python313\\site-packages (80.8.0)\n",
      "Requirement already satisfied: wheel in c:\\users\\amirg\\appdata\\roaming\\python\\python313\\site-packages (0.45.1)\n",
      "Defaulting to user installation because normal site-packages is not writeable\n",
      "Collecting pmdarima\n",
      "  Using cached pmdarima-2.0.4.tar.gz (630 kB)\n",
      "  Installing build dependencies: started\n",
      "  Installing build dependencies: finished with status 'done'\n",
      "  Getting requirements to build wheel: started\n",
      "  Getting requirements to build wheel: finished with status 'done'\n",
      "  Preparing metadata (pyproject.toml): started\n",
      "  Preparing metadata (pyproject.toml): finished with status 'done'\n",
      "Requirement already satisfied: joblib>=0.11 in c:\\users\\amirg\\appdata\\roaming\\python\\python313\\site-packages (from pmdarima) (1.5.0)\n",
      "Requirement already satisfied: Cython!=0.29.18,!=0.29.31,>=0.29 in c:\\users\\amirg\\appdata\\roaming\\python\\python313\\site-packages (from pmdarima) (3.1.1)\n",
      "Requirement already satisfied: numpy>=1.21.2 in c:\\users\\amirg\\appdata\\roaming\\python\\python313\\site-packages (from pmdarima) (2.2.5)\n",
      "Requirement already satisfied: pandas>=0.19 in c:\\users\\amirg\\appdata\\roaming\\python\\python313\\site-packages (from pmdarima) (2.2.3)\n",
      "Requirement already satisfied: scikit-learn>=0.22 in c:\\users\\amirg\\appdata\\roaming\\python\\python313\\site-packages (from pmdarima) (1.6.1)\n",
      "Requirement already satisfied: scipy>=1.3.2 in c:\\users\\amirg\\appdata\\roaming\\python\\python313\\site-packages (from pmdarima) (1.15.3)\n",
      "Requirement already satisfied: statsmodels>=0.13.2 in c:\\users\\amirg\\appdata\\roaming\\python\\python313\\site-packages (from pmdarima) (0.14.4)\n",
      "Requirement already satisfied: urllib3 in c:\\users\\amirg\\appdata\\roaming\\python\\python313\\site-packages (from pmdarima) (2.4.0)\n",
      "Requirement already satisfied: setuptools!=50.0.0,>=38.6.0 in c:\\users\\amirg\\appdata\\roaming\\python\\python313\\site-packages (from pmdarima) (80.8.0)\n",
      "Requirement already satisfied: packaging>=17.1 in c:\\users\\amirg\\appdata\\roaming\\python\\python313\\site-packages (from pmdarima) (25.0)\n",
      "Requirement already satisfied: python-dateutil>=2.8.2 in c:\\users\\amirg\\appdata\\roaming\\python\\python313\\site-packages (from pandas>=0.19->pmdarima) (2.9.0.post0)\n",
      "Requirement already satisfied: pytz>=2020.1 in c:\\users\\amirg\\appdata\\roaming\\python\\python313\\site-packages (from pandas>=0.19->pmdarima) (2025.2)\n",
      "Requirement already satisfied: tzdata>=2022.7 in c:\\users\\amirg\\appdata\\roaming\\python\\python313\\site-packages (from pandas>=0.19->pmdarima) (2025.2)\n",
      "Requirement already satisfied: six>=1.5 in c:\\users\\amirg\\appdata\\roaming\\python\\python313\\site-packages (from python-dateutil>=2.8.2->pandas>=0.19->pmdarima) (1.17.0)\n",
      "Requirement already satisfied: threadpoolctl>=3.1.0 in c:\\users\\amirg\\appdata\\roaming\\python\\python313\\site-packages (from scikit-learn>=0.22->pmdarima) (3.6.0)\n",
      "Requirement already satisfied: patsy>=0.5.6 in c:\\users\\amirg\\appdata\\roaming\\python\\python313\\site-packages (from statsmodels>=0.13.2->pmdarima) (1.0.1)\n",
      "Building wheels for collected packages: pmdarima\n",
      "  Building wheel for pmdarima (pyproject.toml): started\n",
      "  Building wheel for pmdarima (pyproject.toml): finished with status 'error'\n",
      "Failed to build pmdarima\n"
     ]
    },
    {
     "name": "stderr",
     "output_type": "stream",
     "text": [
      "  error: subprocess-exited-with-error\n",
      "  \n",
      "  × Building wheel for pmdarima (pyproject.toml) did not run successfully.\n",
      "  │ exit code: 1\n",
      "  ╰─> [43 lines of output]\n",
      "      Partial import of pmdarima during the build process.\n",
      "      \n",
      "      Requirements: ['joblib>=0.11\\nCython>=0.29,!=0.29.18,!=0.29.31\\nnumpy>=1.21.2\\npandas>=0.19\\nscikit-learn>=0.22\\nscipy>=1.3.2\\nstatsmodels>=0.13.2\\nurllib3\\nsetuptools>=38.6.0,!=50.0.0\\npackaging>=17.1  # Bundled with setuptools, but want to be explicit\\n']\n",
      "      Adding extra setuptools args\n",
      "      Setting up with setuptools\n",
      "      Traceback (most recent call last):\n",
      "        File \"C:\\Users\\amirg\\AppData\\Roaming\\Python\\Python313\\site-packages\\pip\\_vendor\\pyproject_hooks\\_in_process\\_in_process.py\", line 389, in <module>\n",
      "          main()\n",
      "          ~~~~^^\n",
      "        File \"C:\\Users\\amirg\\AppData\\Roaming\\Python\\Python313\\site-packages\\pip\\_vendor\\pyproject_hooks\\_in_process\\_in_process.py\", line 373, in main\n",
      "          json_out[\"return_val\"] = hook(**hook_input[\"kwargs\"])\n",
      "                                   ~~~~^^^^^^^^^^^^^^^^^^^^^^^^\n",
      "        File \"C:\\Users\\amirg\\AppData\\Roaming\\Python\\Python313\\site-packages\\pip\\_vendor\\pyproject_hooks\\_in_process\\_in_process.py\", line 280, in build_wheel\n",
      "          return _build_backend().build_wheel(\n",
      "                 ~~~~~~~~~~~~~~~~~~~~~~~~~~~~^\n",
      "              wheel_directory, config_settings, metadata_directory\n",
      "              ^^^^^^^^^^^^^^^^^^^^^^^^^^^^^^^^^^^^^^^^^^^^^^^^^^^^\n",
      "          )\n",
      "          ^\n",
      "        File \"C:\\Users\\amirg\\AppData\\Local\\Temp\\pip-build-env-54ymad9b\\overlay\\Lib\\site-packages\\setuptools\\build_meta.py\", line 435, in build_wheel\n",
      "          return _build(['bdist_wheel', '--dist-info-dir', str(metadata_directory)])\n",
      "        File \"C:\\Users\\amirg\\AppData\\Local\\Temp\\pip-build-env-54ymad9b\\overlay\\Lib\\site-packages\\setuptools\\build_meta.py\", line 423, in _build\n",
      "          return self._build_with_temp_dir(\n",
      "                 ~~~~~~~~~~~~~~~~~~~~~~~~~^\n",
      "              cmd,\n",
      "              ^^^^\n",
      "          ...<3 lines>...\n",
      "              self._arbitrary_args(config_settings),\n",
      "              ^^^^^^^^^^^^^^^^^^^^^^^^^^^^^^^^^^^^^^\n",
      "          )\n",
      "          ^\n",
      "        File \"C:\\Users\\amirg\\AppData\\Local\\Temp\\pip-build-env-54ymad9b\\overlay\\Lib\\site-packages\\setuptools\\build_meta.py\", line 404, in _build_with_temp_dir\n",
      "          self.run_setup()\n",
      "          ~~~~~~~~~~~~~~^^\n",
      "        File \"C:\\Users\\amirg\\AppData\\Local\\Temp\\pip-build-env-54ymad9b\\overlay\\Lib\\site-packages\\setuptools\\build_meta.py\", line 512, in run_setup\n",
      "          super().run_setup(setup_script=setup_script)\n",
      "          ~~~~~~~~~~~~~~~~~^^^^^^^^^^^^^^^^^^^^^^^^^^^\n",
      "        File \"C:\\Users\\amirg\\AppData\\Local\\Temp\\pip-build-env-54ymad9b\\overlay\\Lib\\site-packages\\setuptools\\build_meta.py\", line 317, in run_setup\n",
      "          exec(code, locals())\n",
      "          ~~~~^^^^^^^^^^^^^^^^\n",
      "        File \"<string>\", line 371, in <module>\n",
      "        File \"<string>\", line 330, in do_setup\n",
      "      ModuleNotFoundError: No module named 'numpy'\n",
      "      [end of output]\n",
      "  \n",
      "  note: This error originates from a subprocess, and is likely not a problem with pip.\n",
      "  ERROR: Failed building wheel for pmdarima\n",
      "ERROR: Failed to build installable wheels for some pyproject.toml based projects (pmdarima)\n"
     ]
    },
    {
     "name": "stdout",
     "output_type": "stream",
     "text": [
      "Defaulting to user installation because normal site-packages is not writeable\n",
      "Collecting tbats\n",
      "  Using cached tbats-1.1.3-py3-none-any.whl.metadata (3.8 kB)\n",
      "Requirement already satisfied: numpy in c:\\users\\amirg\\appdata\\roaming\\python\\python313\\site-packages (from tbats) (2.2.5)\n",
      "Requirement already satisfied: scipy in c:\\users\\amirg\\appdata\\roaming\\python\\python313\\site-packages (from tbats) (1.15.3)\n",
      "Collecting pmdarima (from tbats)\n",
      "  Using cached pmdarima-2.0.4.tar.gz (630 kB)\n",
      "  Installing build dependencies: started\n",
      "  Installing build dependencies: finished with status 'done'\n",
      "  Getting requirements to build wheel: started\n",
      "  Getting requirements to build wheel: finished with status 'done'\n",
      "  Preparing metadata (pyproject.toml): started\n",
      "  Preparing metadata (pyproject.toml): finished with status 'done'\n",
      "Requirement already satisfied: scikit-learn in c:\\users\\amirg\\appdata\\roaming\\python\\python313\\site-packages (from tbats) (1.6.1)\n",
      "Requirement already satisfied: joblib>=0.11 in c:\\users\\amirg\\appdata\\roaming\\python\\python313\\site-packages (from pmdarima->tbats) (1.5.0)\n",
      "Requirement already satisfied: Cython!=0.29.18,!=0.29.31,>=0.29 in c:\\users\\amirg\\appdata\\roaming\\python\\python313\\site-packages (from pmdarima->tbats) (3.1.1)\n",
      "Requirement already satisfied: pandas>=0.19 in c:\\users\\amirg\\appdata\\roaming\\python\\python313\\site-packages (from pmdarima->tbats) (2.2.3)\n",
      "Requirement already satisfied: statsmodels>=0.13.2 in c:\\users\\amirg\\appdata\\roaming\\python\\python313\\site-packages (from pmdarima->tbats) (0.14.4)\n",
      "Requirement already satisfied: urllib3 in c:\\users\\amirg\\appdata\\roaming\\python\\python313\\site-packages (from pmdarima->tbats) (2.4.0)\n",
      "Requirement already satisfied: setuptools!=50.0.0,>=38.6.0 in c:\\users\\amirg\\appdata\\roaming\\python\\python313\\site-packages (from pmdarima->tbats) (80.8.0)\n",
      "Requirement already satisfied: packaging>=17.1 in c:\\users\\amirg\\appdata\\roaming\\python\\python313\\site-packages (from pmdarima->tbats) (25.0)\n",
      "Requirement already satisfied: python-dateutil>=2.8.2 in c:\\users\\amirg\\appdata\\roaming\\python\\python313\\site-packages (from pandas>=0.19->pmdarima->tbats) (2.9.0.post0)\n",
      "Requirement already satisfied: pytz>=2020.1 in c:\\users\\amirg\\appdata\\roaming\\python\\python313\\site-packages (from pandas>=0.19->pmdarima->tbats) (2025.2)\n",
      "Requirement already satisfied: tzdata>=2022.7 in c:\\users\\amirg\\appdata\\roaming\\python\\python313\\site-packages (from pandas>=0.19->pmdarima->tbats) (2025.2)\n",
      "Requirement already satisfied: six>=1.5 in c:\\users\\amirg\\appdata\\roaming\\python\\python313\\site-packages (from python-dateutil>=2.8.2->pandas>=0.19->pmdarima->tbats) (1.17.0)\n",
      "Requirement already satisfied: threadpoolctl>=3.1.0 in c:\\users\\amirg\\appdata\\roaming\\python\\python313\\site-packages (from scikit-learn->tbats) (3.6.0)\n",
      "Requirement already satisfied: patsy>=0.5.6 in c:\\users\\amirg\\appdata\\roaming\\python\\python313\\site-packages (from statsmodels>=0.13.2->pmdarima->tbats) (1.0.1)\n",
      "Using cached tbats-1.1.3-py3-none-any.whl (44 kB)\n",
      "Building wheels for collected packages: pmdarima\n",
      "  Building wheel for pmdarima (pyproject.toml): started\n",
      "  Building wheel for pmdarima (pyproject.toml): finished with status 'error'\n",
      "Failed to build pmdarima\n"
     ]
    },
    {
     "name": "stderr",
     "output_type": "stream",
     "text": [
      "  error: subprocess-exited-with-error\n",
      "  \n",
      "  × Building wheel for pmdarima (pyproject.toml) did not run successfully.\n",
      "  │ exit code: 1\n",
      "  ╰─> [43 lines of output]\n",
      "      Partial import of pmdarima during the build process.\n",
      "      \n",
      "      Requirements: ['joblib>=0.11\\nCython>=0.29,!=0.29.18,!=0.29.31\\nnumpy>=1.21.2\\npandas>=0.19\\nscikit-learn>=0.22\\nscipy>=1.3.2\\nstatsmodels>=0.13.2\\nurllib3\\nsetuptools>=38.6.0,!=50.0.0\\npackaging>=17.1  # Bundled with setuptools, but want to be explicit\\n']\n",
      "      Adding extra setuptools args\n",
      "      Setting up with setuptools\n",
      "      Traceback (most recent call last):\n",
      "        File \"C:\\Users\\amirg\\AppData\\Roaming\\Python\\Python313\\site-packages\\pip\\_vendor\\pyproject_hooks\\_in_process\\_in_process.py\", line 389, in <module>\n",
      "          main()\n",
      "          ~~~~^^\n",
      "        File \"C:\\Users\\amirg\\AppData\\Roaming\\Python\\Python313\\site-packages\\pip\\_vendor\\pyproject_hooks\\_in_process\\_in_process.py\", line 373, in main\n",
      "          json_out[\"return_val\"] = hook(**hook_input[\"kwargs\"])\n",
      "                                   ~~~~^^^^^^^^^^^^^^^^^^^^^^^^\n",
      "        File \"C:\\Users\\amirg\\AppData\\Roaming\\Python\\Python313\\site-packages\\pip\\_vendor\\pyproject_hooks\\_in_process\\_in_process.py\", line 280, in build_wheel\n",
      "          return _build_backend().build_wheel(\n",
      "                 ~~~~~~~~~~~~~~~~~~~~~~~~~~~~^\n",
      "              wheel_directory, config_settings, metadata_directory\n",
      "              ^^^^^^^^^^^^^^^^^^^^^^^^^^^^^^^^^^^^^^^^^^^^^^^^^^^^\n",
      "          )\n",
      "          ^\n",
      "        File \"C:\\Users\\amirg\\AppData\\Local\\Temp\\pip-build-env-6e7gacvb\\overlay\\Lib\\site-packages\\setuptools\\build_meta.py\", line 435, in build_wheel\n",
      "          return _build(['bdist_wheel', '--dist-info-dir', str(metadata_directory)])\n",
      "        File \"C:\\Users\\amirg\\AppData\\Local\\Temp\\pip-build-env-6e7gacvb\\overlay\\Lib\\site-packages\\setuptools\\build_meta.py\", line 423, in _build\n",
      "          return self._build_with_temp_dir(\n",
      "                 ~~~~~~~~~~~~~~~~~~~~~~~~~^\n",
      "              cmd,\n",
      "              ^^^^\n",
      "          ...<3 lines>...\n",
      "              self._arbitrary_args(config_settings),\n",
      "              ^^^^^^^^^^^^^^^^^^^^^^^^^^^^^^^^^^^^^^\n",
      "          )\n",
      "          ^\n",
      "        File \"C:\\Users\\amirg\\AppData\\Local\\Temp\\pip-build-env-6e7gacvb\\overlay\\Lib\\site-packages\\setuptools\\build_meta.py\", line 404, in _build_with_temp_dir\n",
      "          self.run_setup()\n",
      "          ~~~~~~~~~~~~~~^^\n",
      "        File \"C:\\Users\\amirg\\AppData\\Local\\Temp\\pip-build-env-6e7gacvb\\overlay\\Lib\\site-packages\\setuptools\\build_meta.py\", line 512, in run_setup\n",
      "          super().run_setup(setup_script=setup_script)\n",
      "          ~~~~~~~~~~~~~~~~~^^^^^^^^^^^^^^^^^^^^^^^^^^^\n",
      "        File \"C:\\Users\\amirg\\AppData\\Local\\Temp\\pip-build-env-6e7gacvb\\overlay\\Lib\\site-packages\\setuptools\\build_meta.py\", line 317, in run_setup\n",
      "          exec(code, locals())\n",
      "          ~~~~^^^^^^^^^^^^^^^^\n",
      "        File \"<string>\", line 371, in <module>\n",
      "        File \"<string>\", line 330, in do_setup\n",
      "      ModuleNotFoundError: No module named 'numpy'\n",
      "      [end of output]\n",
      "  \n",
      "  note: This error originates from a subprocess, and is likely not a problem with pip.\n",
      "  ERROR: Failed building wheel for pmdarima\n",
      "ERROR: Failed to build installable wheels for some pyproject.toml based projects (pmdarima)\n"
     ]
    }
   ],
   "source": [
    "import sys\n",
    "\n",
    "# 1) Upgrade pip, setuptools, and wheel\n",
    "!{sys.executable} -m pip install --upgrade pip setuptools wheel\n",
    "\n",
    "# 2) Install pmdarima (for SARIMA/auto_arima)\n",
    "!{sys.executable} -m pip install pmdarima\n",
    "\n",
    "# 3) (Optional) Install tbats if you want to use TBATS later\n",
    "!{sys.executable} -m pip install tbats\n",
    "\n",
    "\n",
    "\n",
    "\n"
   ]
  },
  {
   "cell_type": "code",
   "execution_count": null,
   "id": "1f3292bb",
   "metadata": {},
   "outputs": [
    {
     "name": "stdout",
     "output_type": "stream",
     "text": [
      "Defaulting to user installation because normal site-packages is not writeable\n",
      "Requirement already satisfied: pip in c:\\users\\amirg\\appdata\\roaming\\python\\python313\\site-packages (25.1.1)\n",
      "Requirement already satisfied: setuptools in c:\\users\\amirg\\appdata\\roaming\\python\\python313\\site-packages (80.8.0)\n",
      "Requirement already satisfied: wheel in c:\\users\\amirg\\appdata\\roaming\\python\\python313\\site-packages (0.45.1)\n",
      "Note: you may need to restart the kernel to use updated packages.\n",
      "Defaulting to user installation because normal site-packages is not writeable\n",
      "Requirement already satisfied: numpy in c:\\users\\amirg\\appdata\\roaming\\python\\python313\\site-packages (2.2.5)\n",
      "Note: you may need to restart the kernel to use updated packages.\n",
      "Defaulting to user installation because normal site-packages is not writeable\n",
      "Requirement already satisfied: pmdarima in c:\\users\\amirg\\appdata\\roaming\\python\\python313\\site-packages (2.0.4)\n",
      "Requirement already satisfied: joblib>=0.11 in c:\\users\\amirg\\appdata\\roaming\\python\\python313\\site-packages (from pmdarima) (1.5.0)\n",
      "Requirement already satisfied: Cython!=0.29.18,!=0.29.31,>=0.29 in c:\\users\\amirg\\appdata\\roaming\\python\\python313\\site-packages (from pmdarima) (3.1.1)\n",
      "Requirement already satisfied: numpy>=1.21.2 in c:\\users\\amirg\\appdata\\roaming\\python\\python313\\site-packages (from pmdarima) (2.2.5)\n",
      "Requirement already satisfied: pandas>=0.19 in c:\\users\\amirg\\appdata\\roaming\\python\\python313\\site-packages (from pmdarima) (2.2.3)\n",
      "Requirement already satisfied: scikit-learn>=0.22 in c:\\users\\amirg\\appdata\\roaming\\python\\python313\\site-packages (from pmdarima) (1.6.1)\n",
      "Requirement already satisfied: scipy>=1.3.2 in c:\\users\\amirg\\appdata\\roaming\\python\\python313\\site-packages (from pmdarima) (1.15.3)\n",
      "Requirement already satisfied: statsmodels>=0.13.2 in c:\\users\\amirg\\appdata\\roaming\\python\\python313\\site-packages (from pmdarima) (0.14.4)\n",
      "Requirement already satisfied: urllib3 in c:\\users\\amirg\\appdata\\roaming\\python\\python313\\site-packages (from pmdarima) (2.4.0)\n",
      "Requirement already satisfied: setuptools!=50.0.0,>=38.6.0 in c:\\users\\amirg\\appdata\\roaming\\python\\python313\\site-packages (from pmdarima) (80.8.0)\n",
      "Requirement already satisfied: packaging>=17.1 in c:\\users\\amirg\\appdata\\roaming\\python\\python313\\site-packages (from pmdarima) (25.0)\n",
      "Requirement already satisfied: python-dateutil>=2.8.2 in c:\\users\\amirg\\appdata\\roaming\\python\\python313\\site-packages (from pandas>=0.19->pmdarima) (2.9.0.post0)\n",
      "Requirement already satisfied: pytz>=2020.1 in c:\\users\\amirg\\appdata\\roaming\\python\\python313\\site-packages (from pandas>=0.19->pmdarima) (2025.2)\n",
      "Requirement already satisfied: tzdata>=2022.7 in c:\\users\\amirg\\appdata\\roaming\\python\\python313\\site-packages (from pandas>=0.19->pmdarima) (2025.2)\n",
      "Requirement already satisfied: six>=1.5 in c:\\users\\amirg\\appdata\\roaming\\python\\python313\\site-packages (from python-dateutil>=2.8.2->pandas>=0.19->pmdarima) (1.17.0)\n",
      "Requirement already satisfied: threadpoolctl>=3.1.0 in c:\\users\\amirg\\appdata\\roaming\\python\\python313\\site-packages (from scikit-learn>=0.22->pmdarima) (3.6.0)\n",
      "Requirement already satisfied: patsy>=0.5.6 in c:\\users\\amirg\\appdata\\roaming\\python\\python313\\site-packages (from statsmodels>=0.13.2->pmdarima) (1.0.1)\n",
      "Note: you may need to restart the kernel to use updated packages.\n"
     ]
    },
    {
     "name": "stderr",
     "output_type": "stream",
     "text": [
      "C:\\Users\\amirg\\AppData\\Roaming\\Python\\Python313\\site-packages\\sklearn\\utils\\deprecation.py:151: FutureWarning: 'force_all_finite' was renamed to 'ensure_all_finite' in 1.6 and will be removed in 1.8.\n",
      "  warnings.warn(\n",
      "C:\\Users\\amirg\\AppData\\Roaming\\Python\\Python313\\site-packages\\sklearn\\utils\\deprecation.py:151: FutureWarning: 'force_all_finite' was renamed to 'ensure_all_finite' in 1.6 and will be removed in 1.8.\n",
      "  warnings.warn(\n",
      "C:\\Users\\amirg\\AppData\\Roaming\\Python\\Python313\\site-packages\\sklearn\\utils\\deprecation.py:151: FutureWarning: 'force_all_finite' was renamed to 'ensure_all_finite' in 1.6 and will be removed in 1.8.\n",
      "  warnings.warn(\n",
      "C:\\Users\\amirg\\AppData\\Roaming\\Python\\Python313\\site-packages\\sklearn\\utils\\deprecation.py:151: FutureWarning: 'force_all_finite' was renamed to 'ensure_all_finite' in 1.6 and will be removed in 1.8.\n",
      "  warnings.warn(\n",
      "C:\\Users\\amirg\\AppData\\Roaming\\Python\\Python313\\site-packages\\sklearn\\utils\\deprecation.py:151: FutureWarning: 'force_all_finite' was renamed to 'ensure_all_finite' in 1.6 and will be removed in 1.8.\n",
      "  warnings.warn(\n",
      "C:\\Users\\amirg\\AppData\\Roaming\\Python\\Python313\\site-packages\\sklearn\\utils\\deprecation.py:151: FutureWarning: 'force_all_finite' was renamed to 'ensure_all_finite' in 1.6 and will be removed in 1.8.\n",
      "  warnings.warn(\n"
     ]
    },
    {
     "name": "stdout",
     "output_type": "stream",
     "text": [
      "Performing stepwise search to minimize aic\n",
      " ARIMA(0,0,0)(0,1,0)[24] intercept   : AIC=452354.218, Time=3.77 sec\n"
     ]
    },
    {
     "name": "stderr",
     "output_type": "stream",
     "text": [
      "C:\\Users\\amirg\\AppData\\Roaming\\Python\\Python313\\site-packages\\sklearn\\utils\\deprecation.py:151: FutureWarning: 'force_all_finite' was renamed to 'ensure_all_finite' in 1.6 and will be removed in 1.8.\n",
      "  warnings.warn(\n"
     ]
    },
    {
     "name": "stdout",
     "output_type": "stream",
     "text": [
      " ARIMA(1,0,0)(1,1,0)[24] intercept   : AIC=377946.939, Time=115.31 sec\n"
     ]
    },
    {
     "name": "stderr",
     "output_type": "stream",
     "text": [
      "C:\\Users\\amirg\\AppData\\Roaming\\Python\\Python313\\site-packages\\sklearn\\utils\\deprecation.py:151: FutureWarning: 'force_all_finite' was renamed to 'ensure_all_finite' in 1.6 and will be removed in 1.8.\n",
      "  warnings.warn(\n"
     ]
    },
    {
     "name": "stdout",
     "output_type": "stream",
     "text": [
      " ARIMA(0,0,1)(0,1,1)[24] intercept   : AIC=410699.858, Time=228.68 sec\n"
     ]
    },
    {
     "name": "stderr",
     "output_type": "stream",
     "text": [
      "C:\\Users\\amirg\\AppData\\Roaming\\Python\\Python313\\site-packages\\sklearn\\utils\\deprecation.py:151: FutureWarning: 'force_all_finite' was renamed to 'ensure_all_finite' in 1.6 and will be removed in 1.8.\n",
      "  warnings.warn(\n"
     ]
    },
    {
     "name": "stdout",
     "output_type": "stream",
     "text": [
      " ARIMA(0,0,0)(0,1,0)[24]             : AIC=452352.229, Time=7.64 sec\n"
     ]
    },
    {
     "name": "stderr",
     "output_type": "stream",
     "text": [
      "C:\\Users\\amirg\\AppData\\Roaming\\Python\\Python313\\site-packages\\sklearn\\utils\\deprecation.py:151: FutureWarning: 'force_all_finite' was renamed to 'ensure_all_finite' in 1.6 and will be removed in 1.8.\n",
      "  warnings.warn(\n"
     ]
    },
    {
     "name": "stdout",
     "output_type": "stream",
     "text": [
      " ARIMA(1,0,0)(0,1,0)[24] intercept   : AIC=387227.540, Time=9.74 sec\n"
     ]
    },
    {
     "name": "stderr",
     "output_type": "stream",
     "text": [
      "C:\\Users\\amirg\\AppData\\Roaming\\Python\\Python313\\site-packages\\sklearn\\utils\\deprecation.py:151: FutureWarning: 'force_all_finite' was renamed to 'ensure_all_finite' in 1.6 and will be removed in 1.8.\n",
      "  warnings.warn(\n"
     ]
    },
    {
     "ename": "MemoryError",
     "evalue": "Unable to allocate 1.74 GiB for an array with shape (73, 73, 43825) and data type float64",
     "output_type": "error",
     "traceback": [
      "\u001b[31m---------------------------------------------------------------------------\u001b[39m",
      "\u001b[31mMemoryError\u001b[39m                               Traceback (most recent call last)",
      "\u001b[36mCell\u001b[39m\u001b[36m \u001b[39m\u001b[32mIn[2]\u001b[39m\u001b[32m, line 21\u001b[39m\n\u001b[32m     17\u001b[39m y = df[\u001b[33m\"\u001b[39m\u001b[33mPrice (EUR/MWhe)\u001b[39m\u001b[33m\"\u001b[39m]\n\u001b[32m     19\u001b[39m \u001b[38;5;66;03m# 2) Auto‐select SARIMA orders\u001b[39;00m\n\u001b[32m     20\u001b[39m \u001b[38;5;66;03m#    m=24 for daily seasonality\u001b[39;00m\n\u001b[32m---> \u001b[39m\u001b[32m21\u001b[39m sarima_model = \u001b[43mauto_arima\u001b[49m\u001b[43m(\u001b[49m\n\u001b[32m     22\u001b[39m \u001b[43m    \u001b[49m\u001b[43my\u001b[49m\u001b[43m,\u001b[49m\n\u001b[32m     23\u001b[39m \u001b[43m    \u001b[49m\u001b[43mstart_p\u001b[49m\u001b[43m=\u001b[49m\u001b[32;43m0\u001b[39;49m\u001b[43m,\u001b[49m\u001b[43m \u001b[49m\u001b[43mstart_q\u001b[49m\u001b[43m=\u001b[49m\u001b[32;43m0\u001b[39;49m\u001b[43m,\u001b[49m\n\u001b[32m     24\u001b[39m \u001b[43m    \u001b[49m\u001b[43mmax_p\u001b[49m\u001b[43m=\u001b[49m\u001b[32;43m3\u001b[39;49m\u001b[43m,\u001b[49m\u001b[43m \u001b[49m\u001b[43mmax_q\u001b[49m\u001b[43m=\u001b[49m\u001b[32;43m3\u001b[39;49m\u001b[43m,\u001b[49m\n\u001b[32m     25\u001b[39m \u001b[43m    \u001b[49m\u001b[43mseasonal\u001b[49m\u001b[43m=\u001b[49m\u001b[38;5;28;43;01mTrue\u001b[39;49;00m\u001b[43m,\u001b[49m\n\u001b[32m     26\u001b[39m \u001b[43m    \u001b[49m\u001b[43mm\u001b[49m\u001b[43m=\u001b[49m\u001b[32;43m24\u001b[39;49m\u001b[43m,\u001b[49m\n\u001b[32m     27\u001b[39m \u001b[43m    \u001b[49m\u001b[43mstart_P\u001b[49m\u001b[43m=\u001b[49m\u001b[32;43m0\u001b[39;49m\u001b[43m,\u001b[49m\u001b[43m \u001b[49m\u001b[43mstart_Q\u001b[49m\u001b[43m=\u001b[49m\u001b[32;43m0\u001b[39;49m\u001b[43m,\u001b[49m\n\u001b[32m     28\u001b[39m \u001b[43m    \u001b[49m\u001b[43mmax_P\u001b[49m\u001b[43m=\u001b[49m\u001b[32;43m2\u001b[39;49m\u001b[43m,\u001b[49m\u001b[43m \u001b[49m\u001b[43mmax_Q\u001b[49m\u001b[43m=\u001b[49m\u001b[32;43m2\u001b[39;49m\u001b[43m,\u001b[49m\n\u001b[32m     29\u001b[39m \u001b[43m    \u001b[49m\u001b[43md\u001b[49m\u001b[43m=\u001b[49m\u001b[38;5;28;43;01mNone\u001b[39;49;00m\u001b[43m,\u001b[49m\u001b[43m \u001b[49m\u001b[43mD\u001b[49m\u001b[43m=\u001b[49m\u001b[32;43m1\u001b[39;49m\u001b[43m,\u001b[49m\u001b[43m           \u001b[49m\u001b[38;5;66;43;03m# let model choose d, set one seasonal difference\u001b[39;49;00m\n\u001b[32m     30\u001b[39m \u001b[43m    \u001b[49m\u001b[43mtrace\u001b[49m\u001b[43m=\u001b[49m\u001b[38;5;28;43;01mTrue\u001b[39;49;00m\u001b[43m,\u001b[49m\n\u001b[32m     31\u001b[39m \u001b[43m    \u001b[49m\u001b[43merror_action\u001b[49m\u001b[43m=\u001b[49m\u001b[33;43m\"\u001b[39;49m\u001b[33;43mignore\u001b[39;49m\u001b[33;43m\"\u001b[39;49m\u001b[43m,\u001b[49m\n\u001b[32m     32\u001b[39m \u001b[43m    \u001b[49m\u001b[43msuppress_warnings\u001b[49m\u001b[43m=\u001b[49m\u001b[38;5;28;43;01mTrue\u001b[39;49;00m\u001b[43m,\u001b[49m\n\u001b[32m     33\u001b[39m \u001b[43m    \u001b[49m\u001b[43mstepwise\u001b[49m\u001b[43m=\u001b[49m\u001b[38;5;28;43;01mTrue\u001b[39;49;00m\n\u001b[32m     34\u001b[39m \u001b[43m)\u001b[49m\n\u001b[32m     36\u001b[39m \u001b[38;5;28mprint\u001b[39m(sarima_model.summary())\n",
      "\u001b[36mFile \u001b[39m\u001b[32m~\\AppData\\Roaming\\Python\\Python313\\site-packages\\pmdarima\\arima\\auto.py:701\u001b[39m, in \u001b[36mauto_arima\u001b[39m\u001b[34m(y, X, start_p, d, start_q, max_p, max_d, max_q, start_P, D, start_Q, max_P, max_D, max_Q, max_order, m, seasonal, stationary, information_criterion, alpha, test, seasonal_test, stepwise, n_jobs, start_params, trend, method, maxiter, offset_test_args, seasonal_test_args, suppress_warnings, error_action, trace, random, random_state, n_fits, return_valid_fits, out_of_sample_size, scoring, scoring_args, with_intercept, sarimax_kwargs, **fit_args)\u001b[39m\n\u001b[32m    669\u001b[39m     \u001b[38;5;66;03m# init the stepwise model wrapper\u001b[39;00m\n\u001b[32m    670\u001b[39m     search = solvers._StepwiseFitWrapper(\n\u001b[32m    671\u001b[39m         y,\n\u001b[32m    672\u001b[39m         X=X,\n\u001b[32m   (...)\u001b[39m\u001b[32m    698\u001b[39m         **sarimax_kwargs,\n\u001b[32m    699\u001b[39m     )\n\u001b[32m--> \u001b[39m\u001b[32m701\u001b[39m sorted_res = \u001b[43msearch\u001b[49m\u001b[43m.\u001b[49m\u001b[43msolve\u001b[49m\u001b[43m(\u001b[49m\u001b[43m)\u001b[49m\n\u001b[32m    702\u001b[39m \u001b[38;5;28;01mreturn\u001b[39;00m _return_wrapper(sorted_res, return_valid_fits, start, trace)\n",
      "\u001b[36mFile \u001b[39m\u001b[32m~\\AppData\\Roaming\\Python\\Python313\\site-packages\\pmdarima\\arima\\_auto_solvers.py:347\u001b[39m, in \u001b[36m_StepwiseFitWrapper.solve\u001b[39m\u001b[34m(self)\u001b[39m\n\u001b[32m    342\u001b[39m     Q -= \u001b[32m1\u001b[39m\n\u001b[32m    343\u001b[39m     \u001b[38;5;28;01mcontinue\u001b[39;00m\n\u001b[32m    345\u001b[39m \u001b[38;5;28;01mif\u001b[39;00m P < max_P \u001b[38;5;129;01mand\u001b[39;00m \\\n\u001b[32m    346\u001b[39m         \u001b[38;5;28mself\u001b[39m.k < \u001b[38;5;28mself\u001b[39m.max_k \u001b[38;5;129;01mand\u001b[39;00m \\\n\u001b[32m--> \u001b[39m\u001b[32m347\u001b[39m         \u001b[38;5;28;43mself\u001b[39;49m\u001b[43m.\u001b[49m\u001b[43m_do_fit\u001b[49m\u001b[43m(\u001b[49m\u001b[43m(\u001b[49m\u001b[43mp\u001b[49m\u001b[43m,\u001b[49m\u001b[43m \u001b[49m\u001b[43md\u001b[49m\u001b[43m,\u001b[49m\u001b[43m \u001b[49m\u001b[43mq\u001b[49m\u001b[43m)\u001b[49m\u001b[43m,\u001b[49m\u001b[43m \u001b[49m\u001b[43m(\u001b[49m\u001b[43mP\u001b[49m\u001b[43m \u001b[49m\u001b[43m+\u001b[49m\u001b[43m \u001b[49m\u001b[32;43m1\u001b[39;49m\u001b[43m,\u001b[49m\u001b[43m \u001b[49m\u001b[43mD\u001b[49m\u001b[43m,\u001b[49m\u001b[43m \u001b[49m\u001b[43mQ\u001b[49m\u001b[43m,\u001b[49m\u001b[43m \u001b[49m\u001b[43mm\u001b[49m\u001b[43m)\u001b[49m\u001b[43m)\u001b[49m:\n\u001b[32m    348\u001b[39m     P += \u001b[32m1\u001b[39m\n\u001b[32m    349\u001b[39m     \u001b[38;5;28;01mcontinue\u001b[39;00m\n",
      "\u001b[36mFile \u001b[39m\u001b[32m~\\AppData\\Roaming\\Python\\Python313\\site-packages\\pmdarima\\arima\\_auto_solvers.py:235\u001b[39m, in \u001b[36m_StepwiseFitWrapper._do_fit\u001b[39m\u001b[34m(self, order, seasonal_order, constant)\u001b[39m\n\u001b[32m    230\u001b[39m \u001b[38;5;28;01mif\u001b[39;00m (order, seasonal_order, constant) \u001b[38;5;129;01mnot\u001b[39;00m \u001b[38;5;129;01min\u001b[39;00m \u001b[38;5;28mself\u001b[39m.results_dict:\n\u001b[32m    231\u001b[39m \n\u001b[32m    232\u001b[39m     \u001b[38;5;66;03m# increment the number of fits\u001b[39;00m\n\u001b[32m    233\u001b[39m     \u001b[38;5;28mself\u001b[39m.k += \u001b[32m1\u001b[39m\n\u001b[32m--> \u001b[39m\u001b[32m235\u001b[39m     fit, fit_time, new_ic = \u001b[38;5;28;43mself\u001b[39;49m\u001b[43m.\u001b[49m\u001b[43m_fit_arima\u001b[49m\u001b[43m(\u001b[49m\n\u001b[32m    236\u001b[39m \u001b[43m        \u001b[49m\u001b[43morder\u001b[49m\u001b[43m=\u001b[49m\u001b[43morder\u001b[49m\u001b[43m,\u001b[49m\n\u001b[32m    237\u001b[39m \u001b[43m        \u001b[49m\u001b[43mseasonal_order\u001b[49m\u001b[43m=\u001b[49m\u001b[43mseasonal_order\u001b[49m\u001b[43m,\u001b[49m\n\u001b[32m    238\u001b[39m \u001b[43m        \u001b[49m\u001b[43mwith_intercept\u001b[49m\u001b[43m=\u001b[49m\u001b[43mconstant\u001b[49m\u001b[43m)\u001b[49m\n\u001b[32m    240\u001b[39m     \u001b[38;5;66;03m# use the orders as a key to be hashed for\u001b[39;00m\n\u001b[32m    241\u001b[39m     \u001b[38;5;66;03m# the dictionary (pointing to fit)\u001b[39;00m\n\u001b[32m    242\u001b[39m     \u001b[38;5;28mself\u001b[39m.results_dict[(order, seasonal_order, constant)] = fit\n",
      "\u001b[36mFile \u001b[39m\u001b[32m~\\AppData\\Roaming\\Python\\Python313\\site-packages\\pmdarima\\arima\\_auto_solvers.py:508\u001b[39m, in \u001b[36m_fit_candidate_model\u001b[39m\u001b[34m(y, X, order, seasonal_order, start_params, trend, method, maxiter, fit_params, suppress_warnings, trace, error_action, out_of_sample_size, scoring, scoring_args, with_intercept, information_criterion, **kwargs)\u001b[39m\n\u001b[32m    500\u001b[39m fit = ARIMA(order=order, seasonal_order=seasonal_order,\n\u001b[32m    501\u001b[39m             start_params=start_params, trend=trend, method=method,\n\u001b[32m    502\u001b[39m             maxiter=maxiter, suppress_warnings=suppress_warnings,\n\u001b[32m    503\u001b[39m             out_of_sample_size=out_of_sample_size, scoring=scoring,\n\u001b[32m    504\u001b[39m             scoring_args=scoring_args,\n\u001b[32m    505\u001b[39m             with_intercept=with_intercept, **kwargs)\n\u001b[32m    507\u001b[39m \u001b[38;5;28;01mtry\u001b[39;00m:\n\u001b[32m--> \u001b[39m\u001b[32m508\u001b[39m     \u001b[43mfit\u001b[49m\u001b[43m.\u001b[49m\u001b[43mfit\u001b[49m\u001b[43m(\u001b[49m\u001b[43my\u001b[49m\u001b[43m,\u001b[49m\u001b[43m \u001b[49m\u001b[43mX\u001b[49m\u001b[43m=\u001b[49m\u001b[43mX\u001b[49m\u001b[43m,\u001b[49m\u001b[43m \u001b[49m\u001b[43m*\u001b[49m\u001b[43m*\u001b[49m\u001b[43mfit_params\u001b[49m\u001b[43m)\u001b[49m\n\u001b[32m    510\u001b[39m \u001b[38;5;66;03m# for non-stationarity errors or singular matrices, return None\u001b[39;00m\n\u001b[32m    511\u001b[39m \u001b[38;5;28;01mexcept\u001b[39;00m (LinAlgError, \u001b[38;5;167;01mValueError\u001b[39;00m) \u001b[38;5;28;01mas\u001b[39;00m v:\n",
      "\u001b[36mFile \u001b[39m\u001b[32m~\\AppData\\Roaming\\Python\\Python313\\site-packages\\pmdarima\\arima\\arima.py:603\u001b[39m, in \u001b[36mARIMA.fit\u001b[39m\u001b[34m(self, y, X, **fit_args)\u001b[39m\n\u001b[32m    600\u001b[39m         X = safe_indexing(X, \u001b[38;5;28mslice\u001b[39m(\u001b[32m0\u001b[39m, n_exog - cv))\n\u001b[32m    602\u001b[39m \u001b[38;5;66;03m# Internal call\u001b[39;00m\n\u001b[32m--> \u001b[39m\u001b[32m603\u001b[39m \u001b[38;5;28;43mself\u001b[39;49m\u001b[43m.\u001b[49m\u001b[43m_fit\u001b[49m\u001b[43m(\u001b[49m\u001b[43my\u001b[49m\u001b[43m,\u001b[49m\u001b[43m \u001b[49m\u001b[43mX\u001b[49m\u001b[43m,\u001b[49m\u001b[43m \u001b[49m\u001b[43m*\u001b[49m\u001b[43m*\u001b[49m\u001b[43mfit_args\u001b[49m\u001b[43m)\u001b[49m\n\u001b[32m    605\u001b[39m \u001b[38;5;66;03m# now make a forecast if we're validating to compute the\u001b[39;00m\n\u001b[32m    606\u001b[39m \u001b[38;5;66;03m# out-of-sample score\u001b[39;00m\n\u001b[32m    607\u001b[39m \u001b[38;5;28;01mif\u001b[39;00m cv_samples \u001b[38;5;129;01mis\u001b[39;00m \u001b[38;5;129;01mnot\u001b[39;00m \u001b[38;5;28;01mNone\u001b[39;00m:\n\u001b[32m    608\u001b[39m     \u001b[38;5;66;03m# get the predictions (use self.predict, which calls forecast\u001b[39;00m\n\u001b[32m    609\u001b[39m     \u001b[38;5;66;03m# from statsmodels internally)\u001b[39;00m\n",
      "\u001b[36mFile \u001b[39m\u001b[32m~\\AppData\\Roaming\\Python\\Python313\\site-packages\\pmdarima\\arima\\arima.py:524\u001b[39m, in \u001b[36mARIMA._fit\u001b[39m\u001b[34m(self, y, X, **fit_args)\u001b[39m\n\u001b[32m    522\u001b[39m     \u001b[38;5;28;01mwith\u001b[39;00m warnings.catch_warnings(record=\u001b[38;5;28;01mFalse\u001b[39;00m):\n\u001b[32m    523\u001b[39m         warnings.simplefilter(\u001b[33m'\u001b[39m\u001b[33mignore\u001b[39m\u001b[33m'\u001b[39m)\n\u001b[32m--> \u001b[39m\u001b[32m524\u001b[39m         fit, \u001b[38;5;28mself\u001b[39m.arima_res_ = \u001b[43m_fit_wrapper\u001b[49m\u001b[43m(\u001b[49m\u001b[43m)\u001b[49m\n\u001b[32m    525\u001b[39m \u001b[38;5;28;01melse\u001b[39;00m:\n\u001b[32m    526\u001b[39m     fit, \u001b[38;5;28mself\u001b[39m.arima_res_ = _fit_wrapper()\n",
      "\u001b[36mFile \u001b[39m\u001b[32m~\\AppData\\Roaming\\Python\\Python313\\site-packages\\pmdarima\\arima\\arima.py:510\u001b[39m, in \u001b[36mARIMA._fit.<locals>._fit_wrapper\u001b[39m\u001b[34m()\u001b[39m\n\u001b[32m    507\u001b[39m _maxiter = fit_args.pop(\u001b[33m\"\u001b[39m\u001b[33mmaxiter\u001b[39m\u001b[33m\"\u001b[39m, _maxiter)\n\u001b[32m    509\u001b[39m disp = fit_args.pop(\u001b[33m\"\u001b[39m\u001b[33mdisp\u001b[39m\u001b[33m\"\u001b[39m, \u001b[32m0\u001b[39m)\n\u001b[32m--> \u001b[39m\u001b[32m510\u001b[39m fitted = \u001b[43marima\u001b[49m\u001b[43m.\u001b[49m\u001b[43mfit\u001b[49m\u001b[43m(\u001b[49m\n\u001b[32m    511\u001b[39m \u001b[43m    \u001b[49m\u001b[43mstart_params\u001b[49m\u001b[43m=\u001b[49m\u001b[43mstart_params\u001b[49m\u001b[43m,\u001b[49m\n\u001b[32m    512\u001b[39m \u001b[43m    \u001b[49m\u001b[43mmethod\u001b[49m\u001b[43m=\u001b[49m\u001b[43mmethod\u001b[49m\u001b[43m,\u001b[49m\n\u001b[32m    513\u001b[39m \u001b[43m    \u001b[49m\u001b[43mmaxiter\u001b[49m\u001b[43m=\u001b[49m\u001b[43m_maxiter\u001b[49m\u001b[43m,\u001b[49m\n\u001b[32m    514\u001b[39m \u001b[43m    \u001b[49m\u001b[43mdisp\u001b[49m\u001b[43m=\u001b[49m\u001b[43mdisp\u001b[49m\u001b[43m,\u001b[49m\n\u001b[32m    515\u001b[39m \u001b[43m    \u001b[49m\u001b[43m*\u001b[49m\u001b[43m*\u001b[49m\u001b[43mfit_args\u001b[49m\u001b[43m,\u001b[49m\n\u001b[32m    516\u001b[39m \u001b[43m\u001b[49m\u001b[43m)\u001b[49m\n\u001b[32m    518\u001b[39m \u001b[38;5;28;01mreturn\u001b[39;00m arima, fitted\n",
      "\u001b[36mFile \u001b[39m\u001b[32m~\\AppData\\Roaming\\Python\\Python313\\site-packages\\statsmodels\\tsa\\statespace\\mlemodel.py:729\u001b[39m, in \u001b[36mMLEModel.fit\u001b[39m\u001b[34m(self, start_params, transformed, includes_fixed, cov_type, cov_kwds, method, maxiter, full_output, disp, callback, return_params, optim_score, optim_complex_step, optim_hessian, flags, low_memory, **kwargs)\u001b[39m\n\u001b[32m    727\u001b[39m \u001b[38;5;28;01melse\u001b[39;00m:\n\u001b[32m    728\u001b[39m     func = \u001b[38;5;28mself\u001b[39m.smooth\n\u001b[32m--> \u001b[39m\u001b[32m729\u001b[39m res = \u001b[43mfunc\u001b[49m\u001b[43m(\u001b[49m\u001b[43mmlefit\u001b[49m\u001b[43m.\u001b[49m\u001b[43mparams\u001b[49m\u001b[43m,\u001b[49m\u001b[43m \u001b[49m\u001b[43mtransformed\u001b[49m\u001b[43m=\u001b[49m\u001b[38;5;28;43;01mFalse\u001b[39;49;00m\u001b[43m,\u001b[49m\u001b[43m \u001b[49m\u001b[43mincludes_fixed\u001b[49m\u001b[43m=\u001b[49m\u001b[38;5;28;43;01mFalse\u001b[39;49;00m\u001b[43m,\u001b[49m\n\u001b[32m    730\u001b[39m \u001b[43m           \u001b[49m\u001b[43mcov_type\u001b[49m\u001b[43m=\u001b[49m\u001b[43mcov_type\u001b[49m\u001b[43m,\u001b[49m\u001b[43m \u001b[49m\u001b[43mcov_kwds\u001b[49m\u001b[43m=\u001b[49m\u001b[43mcov_kwds\u001b[49m\u001b[43m)\u001b[49m\n\u001b[32m    732\u001b[39m res.mlefit = mlefit\n\u001b[32m    733\u001b[39m res.mle_retvals = mlefit.mle_retvals\n",
      "\u001b[36mFile \u001b[39m\u001b[32m~\\AppData\\Roaming\\Python\\Python313\\site-packages\\statsmodels\\tsa\\statespace\\mlemodel.py:887\u001b[39m, in \u001b[36mMLEModel.smooth\u001b[39m\u001b[34m(self, params, transformed, includes_fixed, complex_step, cov_type, cov_kwds, return_ssm, results_class, results_wrapper_class, **kwargs)\u001b[39m\n\u001b[32m    884\u001b[39m     kwargs[\u001b[33m'\u001b[39m\u001b[33minversion_method\u001b[39m\u001b[33m'\u001b[39m] = INVERT_UNIVARIATE | SOLVE_LU\n\u001b[32m    886\u001b[39m \u001b[38;5;66;03m# Get the state space output\u001b[39;00m\n\u001b[32m--> \u001b[39m\u001b[32m887\u001b[39m result = \u001b[38;5;28;43mself\u001b[39;49m\u001b[43m.\u001b[49m\u001b[43mssm\u001b[49m\u001b[43m.\u001b[49m\u001b[43msmooth\u001b[49m\u001b[43m(\u001b[49m\u001b[43mcomplex_step\u001b[49m\u001b[43m=\u001b[49m\u001b[43mcomplex_step\u001b[49m\u001b[43m,\u001b[49m\u001b[43m \u001b[49m\u001b[43m*\u001b[49m\u001b[43m*\u001b[49m\u001b[43mkwargs\u001b[49m\u001b[43m)\u001b[49m\n\u001b[32m    889\u001b[39m \u001b[38;5;66;03m# Wrap in a results object\u001b[39;00m\n\u001b[32m    890\u001b[39m \u001b[38;5;28;01mreturn\u001b[39;00m \u001b[38;5;28mself\u001b[39m._wrap_results(params, result, return_ssm, cov_type,\n\u001b[32m    891\u001b[39m                           cov_kwds, results_class,\n\u001b[32m    892\u001b[39m                           results_wrapper_class)\n",
      "\u001b[36mFile \u001b[39m\u001b[32m~\\AppData\\Roaming\\Python\\Python313\\site-packages\\statsmodels\\tsa\\statespace\\kalman_smoother.py:410\u001b[39m, in \u001b[36mKalmanSmoother.smooth\u001b[39m\u001b[34m(self, smoother_output, smooth_method, results, run_filter, prefix, complex_step, update_representation, update_filter, update_smoother, **kwargs)\u001b[39m\n\u001b[32m    408\u001b[39m     results.update_representation(\u001b[38;5;28mself\u001b[39m)\n\u001b[32m    409\u001b[39m \u001b[38;5;28;01mif\u001b[39;00m update_filter:\n\u001b[32m--> \u001b[39m\u001b[32m410\u001b[39m     \u001b[43mresults\u001b[49m\u001b[43m.\u001b[49m\u001b[43mupdate_filter\u001b[49m\u001b[43m(\u001b[49m\u001b[43mkfilter\u001b[49m\u001b[43m)\u001b[49m\n\u001b[32m    411\u001b[39m \u001b[38;5;28;01melse\u001b[39;00m:\n\u001b[32m    412\u001b[39m     \u001b[38;5;66;03m# (even if we don't update all filter results, still need to\u001b[39;00m\n\u001b[32m    413\u001b[39m     \u001b[38;5;66;03m# update this)\u001b[39;00m\n\u001b[32m    414\u001b[39m     results.nobs_diffuse = kfilter.nobs_diffuse\n",
      "\u001b[36mFile \u001b[39m\u001b[32m~\\AppData\\Roaming\\Python\\Python313\\site-packages\\statsmodels\\tsa\\statespace\\kalman_filter.py:1539\u001b[39m, in \u001b[36mFilterResults.update_filter\u001b[39m\u001b[34m(self, kalman_filter)\u001b[39m\n\u001b[32m   1535\u001b[39m \u001b[38;5;28mself\u001b[39m.univariate_filter = np.array(kalman_filter.univariate_filter,\n\u001b[32m   1536\u001b[39m                                   copy=\u001b[38;5;28;01mTrue\u001b[39;00m)\n\u001b[32m   1538\u001b[39m \u001b[38;5;28mself\u001b[39m.filtered_state = np.array(kalman_filter.filtered_state, copy=\u001b[38;5;28;01mTrue\u001b[39;00m)\n\u001b[32m-> \u001b[39m\u001b[32m1539\u001b[39m \u001b[38;5;28mself\u001b[39m.filtered_state_cov = \u001b[43mnp\u001b[49m\u001b[43m.\u001b[49m\u001b[43marray\u001b[49m\u001b[43m(\u001b[49m\n\u001b[32m   1540\u001b[39m \u001b[43m    \u001b[49m\u001b[43mkalman_filter\u001b[49m\u001b[43m.\u001b[49m\u001b[43mfiltered_state_cov\u001b[49m\u001b[43m,\u001b[49m\u001b[43m \u001b[49m\u001b[43mcopy\u001b[49m\u001b[43m=\u001b[49m\u001b[38;5;28;43;01mTrue\u001b[39;49;00m\n\u001b[32m   1541\u001b[39m \u001b[43m\u001b[49m\u001b[43m)\u001b[49m\n\u001b[32m   1542\u001b[39m \u001b[38;5;28mself\u001b[39m.predicted_state = np.array(\n\u001b[32m   1543\u001b[39m     kalman_filter.predicted_state, copy=\u001b[38;5;28;01mTrue\u001b[39;00m\n\u001b[32m   1544\u001b[39m )\n\u001b[32m   1545\u001b[39m \u001b[38;5;28mself\u001b[39m.predicted_state_cov = np.array(\n\u001b[32m   1546\u001b[39m     kalman_filter.predicted_state_cov, copy=\u001b[38;5;28;01mTrue\u001b[39;00m\n\u001b[32m   1547\u001b[39m )\n",
      "\u001b[31mMemoryError\u001b[39m: Unable to allocate 1.74 GiB for an array with shape (73, 73, 43825) and data type float64"
     ]
    }
   ],
   "source": [
    "%pip install --upgrade pip setuptools wheel\n",
    "%pip install numpy\n",
    "%pip install pmdarima --no-build-isolation\n",
    "\n",
    "import pandas as pd\n",
    "import matplotlib.pyplot as plt\n",
    "from pmdarima import auto_arima\n",
    "\n",
    "# 1) Load & clean\n",
    "df = (\n",
    "    pd.read_csv(\"NetherlandsTrain.csv\", parse_dates=[\"Datetime (UTC)\"])\n",
    "      .sort_values(\"Datetime (UTC)\")\n",
    "      .dropna(subset=[\"Price (EUR/MWhe)\"])\n",
    "      .set_index(\"Datetime (UTC)\")\n",
    "      .asfreq(\"h\")\n",
    ")\n",
    "y = df[\"Price (EUR/MWhe)\"]\n",
    "\n",
    "# 2) Auto‐select SARIMA orders\n",
    "#    m=24 for daily seasonality\n",
    "sarima_model = auto_arima(\n",
    "    y,\n",
    "    start_p=0, start_q=0,\n",
    "    max_p=3, max_q=3,\n",
    "    seasonal=True,\n",
    "    m=24,\n",
    "    start_P=0, start_Q=0,\n",
    "    max_P=2, max_Q=2,\n",
    "    d=None, D=1,           # let model choose d, set one seasonal difference\n",
    "    trace=True,\n",
    "    error_action=\"ignore\",\n",
    "    suppress_warnings=True,\n",
    "    stepwise=True\n",
    ")\n",
    "wha\n",
    "print(sarima_model.summary())"
   ]
  },
  {
   "cell_type": "code",
   "execution_count": null,
   "id": "666d02e3",
   "metadata": {},
   "outputs": [],
   "source": [
    "# 3) Forecast 2024\n",
    "n_hours_2024 = 24 * 366  # leap year\n",
    "forecast_values = sarima_model.predict(n_periods=n_hours_2024)\n",
    "\n",
    "# Build a DatetimeIndex for 2024\n",
    "idx_2024 = pd.date_range(\n",
    "    start=\"2024-01-01 00:00:00\",\n",
    "    periods=n_hours_2024,\n",
    "    freq=\"H\"\n",
    ")\n",
    "forecast_2024 = pd.Series(forecast_values, index=idx_2024)"
   ]
  },
  {
   "cell_type": "code",
   "execution_count": null,
   "id": "aa7b8e95",
   "metadata": {},
   "outputs": [
    {
     "name": "stdout",
     "output_type": "stream",
     "text": [
      "Forecasted price at 2024-12-30 20:00:00 is -123.87 EUR/MWhe\n"
     ]
    }
   ],
   "source": [
    "# 4) Plot history + SARIMA forecast\n",
    "plt.figure(figsize=(14, 6))\n",
    "plt.scatter(y.index, y.values,\n",
    "            s=10, alpha=0.5, label=\"Historical price\")\n",
    "plt.plot(forecast_2024.index, forecast_2024.values,\n",
    "         color=\"red\", linewidth=1.5,\n",
    "         label=\"SARIMA forecast 2024\")\n",
    "\n",
    "plt.xlabel(\"Datetime (UTC)\")\n",
    "plt.ylabel(\"Price (EUR/MWhe)\")\n",
    "plt.title(\"Dutch electricity price • history and SARIMA forecast for 2024\")\n",
    "plt.legend()\n",
    "plt.tight_layout()\n",
    "plt.gcf().autofmt_xdate()\n",
    "plt.show()"
   ]
  },
  {
   "cell_type": "code",
   "execution_count": null,
   "id": "aac825cc",
   "metadata": {},
   "outputs": [
    {
     "name": "stdout",
     "output_type": "stream",
     "text": [
      "Series([], Freq: h, Name: pred, dtype: float64)\n",
      "Series([], Freq: h, Name: pred, dtype: float64)\n"
     ]
    }
   ],
   "source": []
  }
 ],
 "metadata": {
  "kernelspec": {
   "display_name": "Python 3",
   "language": "python",
   "name": "python3"
  },
  "language_info": {
   "codemirror_mode": {
    "name": "ipython",
    "version": 3
   },
   "file_extension": ".py",
   "mimetype": "text/x-python",
   "name": "python",
   "nbconvert_exporter": "python",
   "pygments_lexer": "ipython3",
   "version": "3.13.1"
  }
 },
 "nbformat": 4,
 "nbformat_minor": 5
}
