{
 "cells": [
  {
   "cell_type": "code",
   "execution_count": 1,
   "id": "82439d51",
   "metadata": {},
   "outputs": [],
   "source": [
    "import pandas as pd\n",
    "import numpy as np\n",
    "import matplotlib.pyplot as plt\n",
    "from statsmodels.tsa.statespace.sarimax import SARIMAX\n",
    "from sklearn.metrics import mean_squared_error"
   ]
  },
  {
   "cell_type": "code",
   "execution_count": null,
   "id": "52535631",
   "metadata": {},
   "outputs": [],
   "source": [
    "# ------------------------------------------------------------------------------\n",
    "# 1. LOAD AND PREPROCESS ELECTRICITY PRICE DATA\n",
    "# ------------------------------------------------------------------------------\n",
    "price_df = pd.read_csv('/mnt/data/Netherlands.csv', sep=';')\n",
    "price_df['Datetime'] = pd.to_datetime(\n",
    "    price_df['Datetime (Local)'], format='%d/%m/%Y %H:%M'\n",
    ").dt.tz_localize(None)  # Ensure naive timestamps\n",
    "\n",
    "# Keep only datetime + price, and resample to daily\n",
    "price_df = price_df[['Datetime', 'Price (EUR/MWhe)']].rename(\n",
    "    columns={'Price (EUR/MWhe)': 'Price'}\n",
    ")\n",
    "price_df.set_index('Datetime', inplace=True)\n",
    "daily_price = price_df.resample('D').mean().dropna().reset_index()\n",
    "\n",
    "print(\"----- 1) Daily Price (first 5 rows) -----\")\n",
    "print(daily_price.head().to_string(index=False))\n",
    "print(\"\\n\" + \"-\"*60 + \"\\n\")"
   ]
  }
 ],
 "metadata": {
  "kernelspec": {
   "display_name": "Python 3",
   "language": "python",
   "name": "python3"
  },
  "language_info": {
   "codemirror_mode": {
    "name": "ipython",
    "version": 3
   },
   "file_extension": ".py",
   "mimetype": "text/x-python",
   "name": "python",
   "nbconvert_exporter": "python",
   "pygments_lexer": "ipython3",
   "version": "3.13.1"
  }
 },
 "nbformat": 4,
 "nbformat_minor": 5
}
