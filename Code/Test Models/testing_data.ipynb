{
 "cells": [
  {
   "cell_type": "code",
   "execution_count": null,
   "id": "9abb6a22",
   "metadata": {},
   "outputs": [
    {
     "name": "stdout",
     "output_type": "stream",
     "text": [
      "First row values:\n",
      " Date        1/2/19 0:00\n",
      "Price             22.28\n",
      "Open              22.28\n",
      "High              22.55\n",
      "Low              22.145\n",
      "Vol.              0.02K\n",
      "Change %        0.09375\n",
      "Name: 0, dtype: object\n",
      "\n",
      "Last row values:\n",
      " Date        6/12/26 20:00\n",
      "Price           46.760082\n",
      "Open                  NaN\n",
      "High                  NaN\n",
      "Low                   NaN\n",
      "Vol.                  NaN\n",
      "Change %        -0.029089\n",
      "Name: 65252, dtype: object\n",
      "\n",
      "Data types:\n",
      " Date         object\n",
      "Price       float64\n",
      "Open        float64\n",
      "High        float64\n",
      "Low         float64\n",
      "Vol.         object\n",
      "Change %    float64\n",
      "dtype: object\n"
     ]
    }
   ],
   "source": [
    "import pandas as pd\n",
    "\n",
    "df = pd.read_csv('../../Data/TTF_hourly_prediction copy.csv')\n",
    "first_row = df.iloc[0]\n",
    "last_row = df.iloc[-1]\n",
    "\n",
    "print(\"First row values:\\n\", first_row)\n",
    "print(\"\\nLast row values:\\n\", last_row)\n",
    "print(\"\\nData types:\\n\", df.dtypes)\n"
   ]
  }
 ],
 "metadata": {
  "kernelspec": {
   "display_name": ".venv",
   "language": "python",
   "name": "python3"
  },
  "language_info": {
   "codemirror_mode": {
    "name": "ipython",
    "version": 3
   },
   "file_extension": ".py",
   "mimetype": "text/x-python",
   "name": "python",
   "nbconvert_exporter": "python",
   "pygments_lexer": "ipython3",
   "version": "3.9.6"
  }
 },
 "nbformat": 4,
 "nbformat_minor": 5
}
